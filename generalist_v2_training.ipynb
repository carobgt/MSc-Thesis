{
 "cells": [
  {
   "cell_type": "code",
   "execution_count": 5,
   "id": "22a400e4",
   "metadata": {},
   "outputs": [],
   "source": [
    "import wandb\n",
    "wandb.login()\n",
    "import os\n",
    "os.environ['WANDB_PROJECT'] = 'generalist_model'\n",
    "import pandas as pd\n",
    "import networkx as nx\n",
    "import logging\n",
    "from random import shuffle\n",
    "import pandas as pd\n",
    "from matplotlib import pyplot as plt\n",
    "import csrgraph as cg\n",
    "import numpy as np\n",
    "import random\n",
    "import string\n",
    "from itertools import combinations\n",
    "import pickle\n",
    "import gc\n",
    "import os\n",
    "import json\n",
    "from transformers import GPT2LMHeadModel, GPT2Tokenizer\n",
    "\n",
    "#os.environ['WANDB_MODE'] = 'disabled'"
   ]
  },
  {
   "cell_type": "code",
   "execution_count": 6,
   "id": "34fa9ed0",
   "metadata": {},
   "outputs": [],
   "source": [
    "# set current directory\n",
    "os.chdir(\"/cs/student/projects1/aibh/2024/cbaumgar/MSC_THESIS\")"
   ]
  },
  {
   "cell_type": "markdown",
   "id": "bd22215e",
   "metadata": {},
   "source": [
    "**DATA GENERATION**"
   ]
  },
  {
   "cell_type": "code",
   "execution_count": 7,
   "id": "e8ca9d84",
   "metadata": {},
   "outputs": [],
   "source": [
    "import networkx as nx\n",
    "import random\n",
    "import string\n",
    "import itertools\n",
    "import numpy as np\n",
    "\n",
    "def get_graph(nodes):\n",
    "    \"\"\"Creates a standard 3x3 grid graph with named nodes.\"\"\"\n",
    "    G = nx.DiGraph()\n",
    "    size = int(np.sqrt(len(nodes)))\n",
    "    if size * size != len(nodes):\n",
    "        raise ValueError(\"Number of nodes must be a perfect square.\")\n",
    "\n",
    "    for r in range(size):\n",
    "        for c in range(size):\n",
    "            idx = r * size + c\n",
    "            # East\n",
    "            if c < size - 1: G.add_edge(nodes[idx], nodes[idx + 1], direction='EAST')\n",
    "            # West\n",
    "            if c > 0: G.add_edge(nodes[idx], nodes[idx - 1], direction='WEST')\n",
    "            # South\n",
    "            if r < size - 1: G.add_edge(nodes[idx], nodes[idx + size], direction='SOUTH')\n",
    "            # North\n",
    "            if r > 0: G.add_edge(nodes[idx], nodes[idx - size], direction='NORTH')\n",
    "    return G\n",
    "\n",
    "def generate_name() -> str:\n",
    "    \"\"\"Generates a random 2-character lowercase string for a node name.\"\"\"\n",
    "    return ''.join(random.choices(string.ascii_lowercase, k=2))\n",
    "\n",
    "def generate_all_shortest_paths(G, min_length):\n",
    "    \"\"\"\n",
    "    Generates all unique shortest paths between all pairs of nodes,\n",
    "    filtered by a minimum length.\n",
    "    \"\"\"\n",
    "    nodes = list(G.nodes())\n",
    "    all_paths = []\n",
    "    for start_node, end_node in itertools.permutations(nodes, 2):\n",
    "        paths_generator = nx.all_shortest_paths(G, source=start_node, target=end_node)\n",
    "        for path in paths_generator:\n",
    "            # The length of a path is the number of nodes. A 3-step path has 4 nodes.\n",
    "            if len(path) >= min_length + 1:\n",
    "                all_paths.append({'start': start_node, 'end': end_node, 'path': path})\n",
    "    # Use a set of tuples to find and remove duplicate paths\n",
    "    unique_path_tuples = {tuple(p['path']) for p in all_paths}\n",
    "    # Rebuild the list of dicts from the unique paths\n",
    "    final_unique_paths = []\n",
    "    seen_paths = set()\n",
    "    for p in all_paths:\n",
    "        path_tuple = tuple(p['path'])\n",
    "        if path_tuple not in seen_paths:\n",
    "            final_unique_paths.append(p)\n",
    "            seen_paths.add(path_tuple)\n",
    "    return final_unique_paths\n",
    "\n",
    "def generate_foraging_path(G, walk_length):\n",
    "    \"\"\"Generates a single, long random walk with node revisits allowed.\"\"\"\n",
    "    nodes = list(G.nodes())\n",
    "    start_node = random.choice(nodes)\n",
    "    path = [start_node]\n",
    "    current_node = start_node\n",
    "    \n",
    "    while len(path) < walk_length:\n",
    "        neighbors = list(G.successors(current_node))\n",
    "        if not neighbors: break \n",
    "        next_node = random.choice(neighbors)\n",
    "        path.append(next_node)\n",
    "        current_node = next_node\n",
    "        \n",
    "    return {'start': path[0], 'end': path[-1], 'path': path}\n",
    "\n",
    "def format_path_string(path_dict, G, mode):\n",
    "    \"\"\"Creates the final string representation for a path.\"\"\"\n",
    "    path = path_dict['path']\n",
    "    if not path: return \"\"\n",
    "\n",
    "    if mode == \"Shortest\":\n",
    "        header = f\"MODE Shortest START {path_dict['start']} END {path_dict['end']} PATH \"\n",
    "    elif mode == \"Foraging\":\n",
    "        header = f\"MODE Foraging START {path_dict['start']} PATH \"\n",
    "    else:\n",
    "        raise ValueError(\"Invalid mode specified\")\n",
    "\n",
    "    path_body = \"\"\n",
    "    for i in range(len(path) - 1):\n",
    "        node1, node2 = path[i], path[i+1]\n",
    "        try:\n",
    "            direction = G.edges[(node1, node2)]['direction']\n",
    "            path_body += f\"{node1} {direction} \"\n",
    "        except KeyError:\n",
    "            return None # Skip malformed path\n",
    "    \n",
    "    path_body += path[-1]\n",
    "    return header + path_body\n",
    "\n",
    "def get_walks_as_strings(n_graphs=100, n_walks=None, walk_length=50, min_shortest_path_length=3):\n",
    "    \"\"\"\n",
    "    Orchestrates the generation of a full, balanced dataset of ShortestPath and Foraging examples.\n",
    "    \n",
    "    NOTE: The `n_walks` parameter from your original script is no longer used, as this function\n",
    "    now generates an exhaustive set of shortest paths and a balanced number of foraging paths\n",
    "    to create a more scientifically rigorous dataset. The `walk_length` parameter now only\n",
    "    applies to foraging paths.\n",
    "    \"\"\"\n",
    "    master_dataset = []\n",
    "    all_graphs = []\n",
    "    print(f\"Starting 'gold standard' dataset generation for {n_graphs} unique environments...\")\n",
    "\n",
    "    for i in range(n_graphs):\n",
    "        nodes = [generate_name() for _ in range(9)] # 3x3 grid\n",
    "        G = get_graph(nodes=nodes)\n",
    "        \n",
    "        # 1. Generate all valid shortest paths\n",
    "        shortest_paths = generate_all_shortest_paths(G, min_length=min_shortest_path_length)\n",
    "        \n",
    "        # 2. Generate an equal number of foraging paths\n",
    "        num_to_generate = len(shortest_paths)\n",
    "        if num_to_generate == 0: continue\n",
    "            \n",
    "        foraging_paths = [generate_foraging_path(G, walk_length=walk_length) for _ in range(num_to_generate)]\n",
    "        \n",
    "        # 3. Format and combine strings for this environment\n",
    "        environment_strings = []\n",
    "        for p in shortest_paths:\n",
    "            s = format_path_string(p, G, \"Shortest\")\n",
    "            if s: environment_strings.append(s)\n",
    "            \n",
    "        for p in foraging_paths:\n",
    "            s = format_path_string(p, G, \"Foraging\")\n",
    "            if s: environment_strings.append(s)\n",
    "            \n",
    "        random.shuffle(environment_strings)\n",
    "        master_dataset.extend(environment_strings)\n",
    "        all_graphs.append(G)\n",
    "        \n",
    "        if (i + 1) % (n_graphs // 10 or 1) == 0:\n",
    "            print(f\"  ...processed {i+1}/{n_graphs} environments. Total paths so far: {len(master_dataset)}\")\n",
    "\n",
    "    random.shuffle(master_dataset)\n",
    "    print(\"\\nDataset generation complete.\")\n",
    "    return master_dataset, all_graphs"
   ]
  },
  {
   "cell_type": "code",
   "execution_count": 29,
   "id": "eb990ddf",
   "metadata": {},
   "outputs": [
    {
     "name": "stdout",
     "output_type": "stream",
     "text": [
      "Removing existing directory: generalist_data\n",
      "Creating new directory: generalist_data\n",
      "\n",
      "--- Generating Training Data ---\n",
      "Starting 'gold standard' dataset generation for 5000 unique environments...\n",
      "  ...processed 500/5000 environments. Total paths so far: 113152\n",
      "  ...processed 1000/5000 environments. Total paths so far: 226776\n",
      "  ...processed 1500/5000 environments. Total paths so far: 339240\n",
      "  ...processed 2000/5000 environments. Total paths so far: 452864\n",
      "  ...processed 2500/5000 environments. Total paths so far: 565772\n",
      "  ...processed 3000/5000 environments. Total paths so far: 678984\n",
      "  ...processed 3500/5000 environments. Total paths so far: 791756\n",
      "  ...processed 4000/5000 environments. Total paths so far: 905920\n",
      "  ...processed 4500/5000 environments. Total paths so far: 1019516\n",
      "  ...processed 5000/5000 environments. Total paths so far: 1132944\n",
      "\n",
      "Dataset generation complete.\n",
      "Writing 1132944 training examples to generalist_data/train.txt...\n",
      "\n",
      "--- Generating Testing Data ---\n",
      "Starting 'gold standard' dataset generation for 100 unique environments...\n",
      "  ...processed 10/100 environments. Total paths so far: 2192\n",
      "  ...processed 20/100 environments. Total paths so far: 4512\n",
      "  ...processed 30/100 environments. Total paths so far: 6724\n",
      "  ...processed 40/100 environments. Total paths so far: 9012\n",
      "  ...processed 50/100 environments. Total paths so far: 11332\n",
      "  ...processed 60/100 environments. Total paths so far: 13572\n",
      "  ...processed 70/100 environments. Total paths so far: 15812\n",
      "  ...processed 80/100 environments. Total paths so far: 18132\n",
      "  ...processed 90/100 environments. Total paths so far: 20452\n",
      "  ...processed 100/100 environments. Total paths so far: 22612\n",
      "\n",
      "Dataset generation complete.\n",
      "Writing 22612 testing examples to generalist_data/test.txt...\n",
      "\n",
      "Process finished successfully.\n"
     ]
    }
   ],
   "source": [
    "import os\n",
    "import shutil\n",
    "import random\n",
    "\n",
    "\n",
    "if __name__ == \"__main__\":\n",
    "    # --- Configuration ---\n",
    "    # WARNING: The 'exhaustive' shortest path method is computationally intensive.\n",
    "    # A value like n_graphs=500,000 is not feasible. \n",
    "    # Start with a smaller number like 1,000-5,000 to test your pipeline.\n",
    "    N_GRAPHS_TRAIN = 5000 \n",
    "    N_GRAPHS_TEST = 100\n",
    "    FORAGING_PATH_LENGTH = 50\n",
    "    MIN_SHORTEST_PATH_STEPS = 2\n",
    "\n",
    "    # Set a seed for reproducibility\n",
    "    random.seed(42)\n",
    "\n",
    "    # --- Setup Output Directory ---\n",
    "    output_dir = \"generalist_data\"\n",
    "    if os.path.exists(output_dir):\n",
    "        print(f\"Removing existing directory: {output_dir}\")\n",
    "        shutil.rmtree(output_dir)\n",
    "    print(f\"Creating new directory: {output_dir}\")\n",
    "    os.makedirs(output_dir)\n",
    "\n",
    "    # --- Generate Training Data ---\n",
    "    print(\"\\n--- Generating Training Data ---\")\n",
    "    train_walks, train_gs = get_walks_as_strings(\n",
    "        n_graphs=N_GRAPHS_TRAIN,\n",
    "        walk_length=FORAGING_PATH_LENGTH,\n",
    "        min_shortest_path_length=MIN_SHORTEST_PATH_STEPS\n",
    "        # Note: n_walks is not needed here\n",
    "    )\n",
    "\n",
    "    train_file_path = os.path.join(output_dir, \"train.txt\")\n",
    "    print(f\"Writing {len(train_walks)} training examples to {train_file_path}...\")\n",
    "    with open(train_file_path, \"w\") as f:\n",
    "        f.write('\\n'.join(train_walks))\n",
    "\n",
    "    # --- Generate Testing Data ---\n",
    "    print(\"\\n--- Generating Testing Data ---\")\n",
    "    test_walks, test_gs = get_walks_as_strings(\n",
    "        n_graphs=N_GRAPHS_TEST,\n",
    "        walk_length=FORAGING_PATH_LENGTH,\n",
    "        min_shortest_path_length=MIN_SHORTEST_PATH_STEPS\n",
    "    )\n",
    "    \n",
    "    test_file_path = os.path.join(output_dir, \"test.txt\")\n",
    "    print(f\"Writing {len(test_walks)} testing examples to {test_file_path}...\")\n",
    "    with open(test_file_path, \"w\") as f:\n",
    "        f.write('\\n'.join(test_walks))\n",
    "\n",
    "    print(\"\\nProcess finished successfully.\")"
   ]
  },
  {
   "cell_type": "markdown",
   "id": "bcd888e9",
   "metadata": {},
   "source": [
    "**EDA**"
   ]
  },
  {
   "cell_type": "code",
   "execution_count": null,
   "id": "11063d72",
   "metadata": {},
   "outputs": [
    {
     "name": "stdout",
     "output_type": "stream",
     "text": [
      "Generating a temporary dataset from 50 unique 3x3 environments...\n",
      "Temporary structured dataset generated.\n",
      "\n",
      "--- Starting Deep EDA on 11276 generated paths ---\n",
      "\n",
      "--- 1. Node Visit Frequency ---\n"
     ]
    },
    {
     "data": {
      "image/png": "[encoded data removed]",
      "text/plain": [
       "<Figure size 600x500 with 2 Axes>"
      ]
     },
     "metadata": {},
     "output_type": "display_data"
    },
    {
     "name": "stdout",
     "output_type": "stream",
     "text": [
      "\n",
      "--- 2. Directional Bias ---\n",
      "⚠️ Found and ignored 1419 invalid (non-cardinal) moves during analysis.\n"
     ]
    },
    {
     "data": {
      "image/png": "[encoded data removed]",
      "text/plain": [
       "<Figure size 800x400 with 1 Axes>"
      ]
     },
     "metadata": {},
     "output_type": "display_data"
    },
    {
     "name": "stdout",
     "output_type": "stream",
     "text": [
      "Counter({'EAST': 72721, 'SOUTH': 72716, 'NORTH': 72655, 'WEST': 72611})\n",
      "\n",
      "--- 3. Start/End Node Positional Bias ---\n",
      "Start Node Type Counts:\n",
      "start_type\n",
      "Corner    5601\n",
      "Edge      4684\n",
      "Center     991\n",
      "Name: count, dtype: int64\n"
     ]
    },
    {
     "data": {
      "image/png": "[encoded data removed]",
      "text/plain": [
       "<Figure size 600x400 with 1 Axes>"
      ]
     },
     "metadata": {},
     "output_type": "display_data"
    },
    {
     "name": "stdout",
     "output_type": "stream",
     "text": [
      "\n",
      "--- 4. Turn Bias (Shortest Paths only) ---\n"
     ]
    },
    {
     "data": {
      "image/png": "[encoded data removed]",
      "text/plain": [
       "<Figure size 800x400 with 1 Axes>"
      ]
     },
     "metadata": {},
     "output_type": "display_data"
    },
    {
     "name": "stdout",
     "output_type": "stream",
     "text": [
      "Counter({'Right Turn': 3485, 'Left Turn': 3485, 'Straight': 3252})\n"
     ]
    }
   ],
   "source": [
    "import pandas as pd\n",
    "import networkx as nx\n",
    "import matplotlib.pyplot as plt\n",
    "import numpy as np\n",
    "import random\n",
    "import string\n",
    "import itertools\n",
    "from collections import Counter\n",
    "\n",
    "## EDA with fake data\n",
    "\n",
    "def generate_name() -> str:\n",
    "    \"\"\"Generates a random 2-character lowercase string for a node name.\"\"\"\n",
    "    return ''.join(random.choices(string.ascii_lowercase, k=2))\n",
    "\n",
    "def format_path_string(path_dict, G, mode, node_to_coord_map):\n",
    "    \"\"\"Creates the final string representation for a path.\"\"\"\n",
    "    path_nodes = path_dict['path']\n",
    "    if not path_nodes: return \"\"\n",
    "\n",
    "    start_node_name = path_nodes[0]\n",
    "    end_node_name = path_nodes[-1]\n",
    "    \n",
    "    if mode == \"Shortest\":\n",
    "        header = f\"MODE: Shortest, FROM: {start_node_name}, TO: {end_node_name}, PATH: \"\n",
    "    elif mode == \"Foraging\":\n",
    "        header = f\"MODE: Foraging, START: {start_node_name}, PATH: \"\n",
    "    else:\n",
    "        raise ValueError(\"Invalid mode specified\")\n",
    "\n",
    "    path_body = \"\"\n",
    "    for i in range(len(path_nodes) - 1):\n",
    "        node1, node2 = path_nodes[i], path_nodes[i+1]\n",
    "        try:\n",
    "            direction = G.edges[(node1, node2)]['direction']\n",
    "            path_body += f\"{node1} {direction} \"\n",
    "        except KeyError: return None \n",
    "    \n",
    "    path_body += path_nodes[-1]\n",
    "    \n",
    "    # Also return the path in coordinate form for analysis\n",
    "    path_coords = [node_to_coord_map[node] for node in path_nodes]\n",
    "    \n",
    "    return header + path_body, path_coords\n",
    "\n",
    "def generate_deep_analysis_dataset(n_graphs=100, grid_size=3, walk_length=50, min_shortest_path_length=3):\n",
    "    \"\"\"\n",
    "    Generates a dataset and returns it in a structured format with coordinate ground truth.\n",
    "    \"\"\"\n",
    "    structured_dataset = []\n",
    "    num_nodes = grid_size * grid_size\n",
    "    print(f\"Generating a temporary dataset from {n_graphs} unique {grid_size}x{grid_size} environments...\")\n",
    "\n",
    "    for i in range(n_graphs):\n",
    "        # Create environment and mapping from random name to canonical coordinate\n",
    "        node_names = [generate_name() for _ in range(num_nodes)]\n",
    "        coord_map = {name: (r, c) for r, row in enumerate(np.array(node_names).reshape(grid_size, grid_size)) for c, name in enumerate(row)}\n",
    "        node_to_coord_map = {name: coord for name, coord in coord_map.items()}\n",
    "\n",
    "        G = nx.grid_2d_graph(grid_size, grid_size)\n",
    "        # Relabel nodes to use the random names but keep coordinate structure\n",
    "        G = nx.relabel_nodes(G, {(r,c): node_names[r*grid_size+c] for r in range(grid_size) for c in range(grid_size)})\n",
    "        # Add direction attributes\n",
    "        for u, v in G.edges():\n",
    "            u_coord, v_coord = node_to_coord_map[u], node_to_coord_map[v]\n",
    "            if v_coord[1] > u_coord[1]: G.edges[u,v]['direction'] = 'EAST'\n",
    "            elif v_coord[1] < u_coord[1]: G.edges[u,v]['direction'] = 'WEST'\n",
    "            elif v_coord[0] > u_coord[0]: G.edges[u,v]['direction'] = 'SOUTH'\n",
    "            else: G.edges[u,v]['direction'] = 'NORTH'\n",
    "        G = nx.DiGraph(G) # Make it directed\n",
    "\n",
    "        # Generate paths\n",
    "        shortest_paths_dicts = generate_all_shortest_paths(G, min_shortest_path_length)\n",
    "        num_to_generate = len(shortest_paths_dicts)\n",
    "        if num_to_generate == 0: continue\n",
    "            \n",
    "        foraging_paths_dicts = [generate_foraging_path(G, walk_length) for _ in range(num_to_generate)]\n",
    "\n",
    "        # Format and store with coordinate data\n",
    "        for p in shortest_paths_dicts:\n",
    "            formatted_string, path_coords = format_path_string(p, G, \"Shortest\", node_to_coord_map)\n",
    "            if formatted_string:\n",
    "                structured_dataset.append({'mode': 'Shortest', 'path_coords': path_coords})\n",
    "        \n",
    "        for p in foraging_paths_dicts:\n",
    "            formatted_string, path_coords = format_path_string(p, G, \"Foraging\", node_to_coord_map)\n",
    "            if formatted_string:\n",
    "                structured_dataset.append({'mode': 'Foraging', 'path_coords': path_coords})\n",
    "\n",
    "    random.shuffle(structured_dataset)\n",
    "    print(\"Temporary structured dataset generated.\")\n",
    "    return structured_dataset\n",
    "\n",
    "# (Other helper functions like generate_all_shortest_paths, generate_foraging_path can be copied from your previous script)\n",
    "def generate_all_shortest_paths(G, min_length):\n",
    "    nodes = list(G.nodes())\n",
    "    all_paths = []\n",
    "    for start_node, end_node in itertools.permutations(nodes, 2):\n",
    "        paths_generator = nx.all_shortest_paths(G, source=start_node, target=end_node)\n",
    "        for path in paths_generator:\n",
    "            if len(path) >= min_length + 1:\n",
    "                all_paths.append({'start': start_node, 'end': end_node, 'path': path})\n",
    "    unique_path_tuples = {tuple(p['path']) for p in all_paths}\n",
    "    final_unique_paths = []\n",
    "    seen_paths = set()\n",
    "    for p in all_paths:\n",
    "        path_tuple = tuple(p['path'])\n",
    "        if path_tuple not in seen_paths:\n",
    "            final_unique_paths.append(p)\n",
    "            seen_paths.add(path_tuple)\n",
    "    return final_unique_paths\n",
    "\n",
    "def generate_foraging_path(G, walk_length):\n",
    "    nodes = list(G.nodes())\n",
    "    start_node = random.choice(nodes)\n",
    "    path = [start_node]\n",
    "    current_node = start_node\n",
    "    while len(path) < walk_length:\n",
    "        neighbors = list(G.successors(current_node))\n",
    "        if not neighbors: break \n",
    "        next_node = random.choice(neighbors)\n",
    "        path.append(next_node)\n",
    "        current_node = next_node\n",
    "    return {'start': path[0], 'end': path[-1], 'path': path}\n",
    "\n",
    "\n",
    "## main part\n",
    "\n",
    "if __name__ == \"__main__\":\n",
    "    # --- Config ---\n",
    "    N_GRAPHS_EDA = 50\n",
    "    GRID_SIZE_EDA = 3\n",
    "    FORAGING_PATH_LENGTH = 50\n",
    "    MIN_SHORTEST_PATH_STEPS = 2\n",
    "\n",
    "    random.seed(42)\n",
    "\n",
    "    # 1. Generate the structured dataset\n",
    "    structured_data = generate_deep_analysis_dataset(\n",
    "        n_graphs=N_GRAPHS_EDA,\n",
    "        grid_size=GRID_SIZE_EDA,\n",
    "        walk_length=FORAGING_PATH_LENGTH,\n",
    "        min_shortest_path_length=MIN_SHORTEST_PATH_STEPS\n",
    "    )\n",
    "    df = pd.DataFrame(structured_data)\n",
    "\n",
    "    print(f\"\\n--- Starting Deep EDA on {len(df)} generated paths ---\")\n",
    "\n",
    "    # --- Analysis 1: Node Visit Frequency ---\n",
    "    print(\"\\n--- 1. Node Visit Frequency ---\")\n",
    "    all_nodes_visited = [node for path in df['path_coords'] for node in path]\n",
    "    node_counts = Counter(all_nodes_visited)\n",
    "    \n",
    "    heatmap_data = np.zeros((GRID_SIZE_EDA, GRID_SIZE_EDA))\n",
    "    for (r, c), count in node_counts.items():\n",
    "        heatmap_data[r, c] = count\n",
    "        \n",
    "    fig, ax = plt.subplots(figsize=(6, 5))\n",
    "    im = ax.imshow(heatmap_data, cmap=\"viridis\")\n",
    "    ax.set_xticks(np.arange(GRID_SIZE_EDA))\n",
    "    ax.set_yticks(np.arange(GRID_SIZE_EDA))\n",
    "    for r in range(GRID_SIZE_EDA):\n",
    "        for c in range(GRID_SIZE_EDA):\n",
    "            ax.text(c, r, f\"{int(heatmap_data[r, c])}\", ha=\"center\", va=\"center\", color=\"w\", fontsize=12)\n",
    "    ax.set_title(\"Heatmap of Node Visit Frequency\")\n",
    "    plt.colorbar(im)\n",
    "    plt.show()\n",
    "\n",
    "    # --- Analysis 2: Directional Bias ---\n",
    "    print(\"\\n--- 2. Directional Bias ---\")\n",
    "    direction_map = {(0, 1): 'EAST', (0, -1): 'WEST', (1, 0): 'SOUTH', (-1, 0): 'NORTH'}\n",
    "    all_directions = []\n",
    "    invalid_moves_found = 0\n",
    "\n",
    "    for path in df['path_coords']:\n",
    "        for i in range(len(path) - 1):\n",
    "            u, v = path[i], path[i+1]\n",
    "            dr, dc = v[0] - u[0], v[1] - u[1]\n",
    "            \n",
    "            # --- THE FIX IS HERE ---\n",
    "            # Use direct dictionary access, which will raise a KeyError on an invalid move.\n",
    "            # This is better than .get() because it fails loudly.\n",
    "            direction = direction_map.get((dr, dc))\n",
    "            if direction:\n",
    "                all_directions.append(direction)\n",
    "            else:\n",
    "                # If the move is not a valid cardinal direction, log it but don't add None.\n",
    "                invalid_moves_found += 1\n",
    "                # print(f\"Warning: Invalid move detected from {u} to {v}. Skipping.\") # Uncomment for detailed debugging\n",
    "\n",
    "    if invalid_moves_found > 0:\n",
    "        print(f\"⚠️ Found and ignored {invalid_moves_found} invalid (non-cardinal) moves during analysis.\")\n",
    "\n",
    "    direction_counts = Counter(all_directions)\n",
    "    # Create a list of colors that maps to the specific keys found, in a consistent order\n",
    "    keys_in_order = sorted(direction_counts.keys())\n",
    "    colors_in_order = {'NORTH':'#ff9999', 'SOUTH':'#66b3ff', 'EAST':'#99ff99', 'WEST':'#ffcc99'}\n",
    "    bar_colors = [colors_in_order.get(key, '#cccccc') for key in keys_in_order]\n",
    "\n",
    "    plt.figure(figsize=(8, 4))\n",
    "    # Plot using the sorted keys to ensure consistent bar order\n",
    "    plt.bar(keys_in_order, [direction_counts[k] for k in keys_in_order], color=bar_colors)\n",
    "    plt.title(\"Total Directional Moves Across All Paths\")\n",
    "    plt.ylabel(\"Frequency\")\n",
    "    plt.show()\n",
    "    print(direction_counts)\n",
    "\n",
    "    # --- Analysis 3: Start/End Node Positional Bias ---\n",
    "    print(\"\\n--- 3. Start/End Node Positional Bias ---\")\n",
    "    def get_node_type(coord, size):\n",
    "        if coord in [(0,0), (0,size-1), (size-1,0), (size-1,size-1)]: return 'Corner'\n",
    "        elif coord[0] in [0, size-1] or coord[1] in [0, size-1]: return 'Edge'\n",
    "        else: return 'Center'\n",
    "\n",
    "    df['start_coord'] = df['path_coords'].apply(lambda x: x[0])\n",
    "    df['start_type'] = df['start_coord'].apply(lambda x: get_node_type(x, GRID_SIZE_EDA))\n",
    "    \n",
    "    start_type_counts = df['start_type'].value_counts()\n",
    "    print(\"Start Node Type Counts:\")\n",
    "    print(start_type_counts)\n",
    "\n",
    "    plt.figure(figsize=(6,4))\n",
    "    start_type_counts.plot(kind='pie', autopct='%1.1f%%', startangle=90, colors=['#ff9999','#66b3ff','#99ff99'])\n",
    "    plt.title(\"Distribution of Start Node Types\")\n",
    "    plt.ylabel('') # Hides the 'None' label\n",
    "    plt.show()\n",
    "\n",
    "    # --- Analysis 4: Turn Bias (for Shortest Paths) ---\n",
    "    print(\"\\n--- 4. Turn Bias (Shortest Paths only) ---\")\n",
    "    shortest_df = df[df['mode'] == 'Shortest']\n",
    "    turn_types = []\n",
    "    for path in shortest_df['path_coords']:\n",
    "        if len(path) < 3: continue\n",
    "        for i in range(len(path) - 2):\n",
    "            p1, p2, p3 = path[i], path[i+1], path[i+2]\n",
    "            d1 = (p2[0]-p1[0], p2[1]-p1[1])\n",
    "            d2 = (p3[0]-p2[0], p3[1]-p2[1])\n",
    "            if d1 == d2:\n",
    "                turn_types.append(\"Straight\")\n",
    "            else:\n",
    "                # Using cross product to determine left/right turn\n",
    "                # (d1.x*d2.y - d1.y*d2.x) will be +/- for turns\n",
    "                cross_product = d1[1]*d2[0] - d1[0]*d2[1]\n",
    "                if cross_product > 0:\n",
    "                    turn_types.append(\"Left Turn\")\n",
    "                else:\n",
    "                    turn_types.append(\"Right Turn\")\n",
    "    \n",
    "    turn_counts = Counter(turn_types)\n",
    "    plt.figure(figsize=(8, 4))\n",
    "    plt.bar(turn_counts.keys(), turn_counts.values())\n",
    "    plt.title(\"Turn Type Frequencies in Shortest Paths\")\n",
    "    plt.ylabel(\"Frequency\")\n",
    "    plt.show()\n",
    "    print(turn_counts)"
   ]
  },
  {
   "cell_type": "markdown",
   "id": "d555cef8",
   "metadata": {},
   "source": [
    "**MODEL TRAINING**"
   ]
  },
  {
   "cell_type": "code",
   "execution_count": 8,
   "id": "cbef3ebd",
   "metadata": {},
   "outputs": [],
   "source": [
    "class GPT:\n",
    "\n",
    "    def __init__(self, base_model=None, base_model_name='gpt2', vocab_size=100):\n",
    "        self.base_model = base_model\n",
    "        self.base_model_name = base_model_name\n",
    "        self.vocab_size = vocab_size\n",
    "\n",
    "        if self.base_model is not None:\n",
    "            self.tokenizer = GPT2Tokenizer.from_pretrained(base_model)\n",
    "            self.model = GPT2LMHeadModel.from_pretrained(base_model)\n",
    "            self.tokenizer.pad_token = self.tokenizer.eos_token\n",
    "\n",
    "    def continue_input(self, input_sequence, max_new_tokens=5, num_return_sequences=1, no_repeat_ngram_size=0,\n",
    "                       do_sample=False, temperature=0.7, num_beams=1):\n",
    "        input_ids = self.tokenizer.encode(input_sequence, return_tensors='pt')\n",
    "\n",
    "        # Generate text\n",
    "        output = self.model.generate(\n",
    "            input_ids,\n",
    "            max_new_tokens=max_new_tokens,\n",
    "            num_return_sequences=num_return_sequences,\n",
    "            num_beams=num_beams,\n",
    "            no_repeat_ngram_size=no_repeat_ngram_size,\n",
    "            do_sample=do_sample,\n",
    "            temperature=temperature,\n",
    "        )\n",
    "\n",
    "        # Decode the output\n",
    "        sequence = output[0].tolist()\n",
    "        text = self.tokenizer.decode(sequence)\n",
    "        return text\n",
    "    \n",
    "    "
   ]
  },
  {
   "cell_type": "code",
   "execution_count": 9,
   "id": "eac1e03d",
   "metadata": {},
   "outputs": [],
   "source": [
    "def load_pkl(pth):\n",
    "    with open(pth, 'rb') as f:\n",
    "        d = pickle.load(f)\n",
    "    return d\n",
    "\n",
    "def is_valid_path(sequence, graphs):\n",
    "    # Split the sequence into parts\n",
    "    parts = sequence.split()\n",
    "\n",
    "    # Extract nodes and edges; nodes are at even indices, edges at odd indices\n",
    "    nodes = parts[::2]\n",
    "    edges = parts[1::2]\n",
    "\n",
    "    # Convert edges to a lowercase version for comparison (assuming all edges in graphs are lowercase)\n",
    "    edges = [edge.lower() for edge in edges]\n",
    "\n",
    "    # Iterate over each graph to check if the path exists\n",
    "    for graph in graphs:\n",
    "        path_exists = True\n",
    "        for i in range(len(nodes) - 1):\n",
    "            # Check if the current graph has the edge between the current node and the next node\n",
    "            if not graph.has_edge(nodes[i], nodes[i+1]):\n",
    "                path_exists = False\n",
    "                break\n",
    "\n",
    "        # If path exists in the current graph, return True\n",
    "        if path_exists:\n",
    "            return True\n",
    "\n",
    "    # If none of the graphs contain the path, return False\n",
    "    return False"
   ]
  },
  {
   "cell_type": "code",
   "execution_count": 24,
   "id": "81180022",
   "metadata": {},
   "outputs": [
    {
     "name": "stdout",
     "output_type": "stream",
     "text": [
      "Loading base gpt2 config...\n",
      "Overriding config vocab_size. Old: 50257, New: 1000\n",
      "Updating special token IDs in the config...\n",
      "Custom model config saved to: ./generalist_config\n"
     ]
    }
   ],
   "source": [
    "\n",
    "# **CREATING CUSTOM MODEL CONFIGURATION**\n",
    "\n",
    "from transformers import AutoConfig, GPT2Tokenizer\n",
    "\n",
    "# --- Configuration ---\n",
    "TOKENIZER_PATH = \"./generalist_tokenizer\"\n",
    "CONFIG_SAVE_PATH = \"./generalist_config\"\n",
    "\n",
    "# 1. Load the custom tokenizer to get its properties\n",
    "my_custom_tokenizer = GPT2Tokenizer.from_pretrained(TOKENIZER_PATH)\n",
    "\n",
    "# 2. Load the base gpt2 config as a blueprint\n",
    "print(\"Loading base gpt2 config...\")\n",
    "config = AutoConfig.from_pretrained('gpt2')\n",
    "\n",
    "# 3. CRITICAL: Override the config with our custom tokenizer's properties\n",
    "print(f\"Overriding config vocab_size. Old: {config.vocab_size}, New: {my_custom_tokenizer.vocab_size}\")\n",
    "config.vocab_size = my_custom_tokenizer.vocab_size\n",
    "\n",
    "# Also update the special token IDs\n",
    "print(\"Updating special token IDs in the config...\")\n",
    "config.bos_token_id = my_custom_tokenizer.bos_token_id\n",
    "config.eos_token_id = my_custom_tokenizer.eos_token_id\n",
    "# If you have pad_token, etc., you can set them here too\n",
    "# config.pad_token_id = my_custom_tokenizer.pad_token_id\n",
    "\n",
    "# 4. Save the new, modified config to its own directory\n",
    "os.makedirs(CONFIG_SAVE_PATH, exist_ok=True)\n",
    "config.save_pretrained(CONFIG_SAVE_PATH)\n",
    "\n",
    "print(f\"Custom model config saved to: {CONFIG_SAVE_PATH}\")"
   ]
  },
  {
   "cell_type": "code",
   "execution_count": 36,
   "id": "61f7392c",
   "metadata": {},
   "outputs": [],
   "source": [
    "import os\n",
    "import gc\n",
    "\n",
    "def train_model_script(num_epochs=1,\n",
    "                       output_dir='generalist_model',\n",
    "                       lr=5e-05):\n",
    "    gc.collect()\n",
    "\n",
    "    save_steps = 500\n",
    "    save_total_limit = 30 \n",
    "    \n",
    "    # --- Define Clean Paths ---\n",
    "    data_dir = 'generalist_data' \n",
    "    tokenizer_dir = 'generalist_tokenizer'\n",
    "    config_dir = 'generalist_config'\n",
    "    \n",
    "    train_path = f'./{data_dir}/train.txt'\n",
    "    test_path = f'./{data_dir}/test.txt'\n",
    "\n",
    "    # --- THE FIX IS HERE ---\n",
    "    # 1. Construct the full command as a Python f-string\n",
    "    command = f\"\"\"\n",
    "    python3 ./run_clm.py \\\\\n",
    "        --config_name {config_dir} \\\\\n",
    "        --tokenizer_name {tokenizer_dir} \\\\\n",
    "        --train_file {train_path} \\\\\n",
    "        --validation_file {test_path} \\\\\n",
    "        --per_device_train_batch_size 1 \\\\\n",
    "        --per_device_eval_batch_size 1 \\\\\n",
    "        --do_train \\\\\n",
    "        --do_eval \\\\\n",
    "        --output_dir {output_dir} \\\\\n",
    "        --overwrite_output_dir \\\\\n",
    "        --num_train_epochs {num_epochs} \\\\\n",
    "        --save_strategy 'steps' \\\\\n",
    "        --save_steps {save_steps} \\\\\n",
    "        --save_total_limit {save_total_limit} \\\\\n",
    "        --eval_steps 2000 \\\\\n",
    "        --learning_rate {lr} \\\\\n",
    "        --report_to 'wandb'\n",
    "    \"\"\"\n",
    "    \n",
    "    # 2. Print the command to verify it's correct\n",
    "    print(\"--- Running Command ---\")\n",
    "    print(command)\n",
    "    print(\"-----------------------\")\n",
    "    \n",
    "    # 3. Execute the command using os.system\n",
    "    os.system(command)"
   ]
  },
  {
   "cell_type": "code",
   "execution_count": 31,
   "id": "d1bd7761",
   "metadata": {},
   "outputs": [
    {
     "name": "stdout",
     "output_type": "stream",
     "text": [
      "Hugging Face datasets cache is now set to: /cs/student/projects1/aibh/2024/cbaumgar/MSC_THESIS/.cache/huggingface_datasets\n",
      "Wandb local run directory set to: /cs/student/projects1/aibh/2024/cbaumgar/MSC_THESIS/wandb_local_runs\n"
     ]
    }
   ],
   "source": [
    "import os\n",
    "\n",
    "# Define the path for new cache directory \n",
    "project_cache_path = os.path.join(os.getcwd(), '.cache', 'huggingface_datasets')\n",
    "os.makedirs(project_cache_path, exist_ok=True)\n",
    "\n",
    "# Set the environment variable to tell the 'datasets' library to use this new path\n",
    "os.environ['HF_DATASETS_CACHE'] = project_cache_path\n",
    "\n",
    "print(f\"Hugging Face datasets cache is now set to: {os.environ['HF_DATASETS_CACHE']}\")\n",
    "\n",
    "wandb_path = os.path.join(os.getcwd(), 'wandb_local_runs')\n",
    "os.makedirs(wandb_path, exist_ok=True)\n",
    "# Set the environment variable to tell 'wandb' to use this new path\n",
    "os.environ['WANDB_DIR'] = wandb_path\n",
    "print(f\"Wandb local run directory set to: {os.environ['WANDB_DIR']}\")"
   ]
  },
  {
   "cell_type": "code",
   "execution_count": 37,
   "id": "263c1dfa",
   "metadata": {},
   "outputs": [],
   "source": [
    "# !rm -rf generalist_model/\n",
    "!mkdir generalist_model/"
   ]
  },
  {
   "cell_type": "code",
   "execution_count": 38,
   "id": "e212452a",
   "metadata": {},
   "outputs": [
    {
     "name": "stdout",
     "output_type": "stream",
     "text": [
      "--- Running Command ---\n",
      "\n",
      "    python3 ./run_clm.py \\\n",
      "        --config_name generalist_config \\\n",
      "        --tokenizer_name generalist_tokenizer \\\n",
      "        --train_file ./generalist_data/train.txt \\\n",
      "        --validation_file ./generalist_data/test.txt \\\n",
      "        --per_device_train_batch_size 1 \\\n",
      "        --per_device_eval_batch_size 1 \\\n",
      "        --do_train \\\n",
      "        --do_eval \\\n",
      "        --output_dir generalist_model \\\n",
      "        --overwrite_output_dir \\\n",
      "        --num_train_epochs 0.2 \\\n",
      "        --save_strategy 'steps' \\\n",
      "        --save_steps 500 \\\n",
      "        --save_total_limit 30 \\\n",
      "        --eval_steps 2000 \\\n",
      "        --learning_rate 5e-05 \\\n",
      "        --report_to 'wandb'\n",
      "    \n",
      "-----------------------\n"
     ]
    },
    {
     "name": "stderr",
     "output_type": "stream",
     "text": [
      "/cs/student/projects1/aibh/2024/cbaumgar/.venv/lib64/python3.9/site-packages/networkx/utils/backends.py:135: RuntimeWarning: networkx backend defined more than once: nx-loopback\n",
      "  backends.update(_get_backends(\"networkx.backends\"))\n"
     ]
    },
    {
     "name": "stdout",
     "output_type": "stream",
     "text": [
      "07/20/2025 12:58:17 - WARNING - __main__ - Process rank: 0, device: cuda:0, n_gpu: 1, distributed training: False, 16-bits training: False\n",
      "07/20/2025 12:58:17 - INFO - __main__ - Training/evaluation parameters TrainingArguments(\n",
      "_n_gpu=1,\n",
      "accelerator_config={'split_batches': False, 'dispatch_batches': None, 'even_batches': True, 'use_seedable_sampler': True, 'non_blocking': False, 'gradient_accumulation_kwargs': None, 'use_configured_state': False},\n",
      "adafactor=False,\n",
      "adam_beta1=0.9,\n",
      "adam_beta2=0.999,\n",
      "adam_epsilon=1e-08,\n",
      "auto_find_batch_size=False,\n",
      "average_tokens_across_devices=False,\n",
      "batch_eval_metrics=False,\n",
      "bf16=False,\n",
      "bf16_full_eval=False,\n",
      "data_seed=None,\n",
      "dataloader_drop_last=False,\n",
      "dataloader_num_workers=0,\n",
      "dataloader_persistent_workers=False,\n",
      "dataloader_pin_memory=True,\n",
      "dataloader_prefetch_factor=None,\n",
      "ddp_backend=None,\n",
      "ddp_broadcast_buffers=None,\n",
      "ddp_bucket_cap_mb=None,\n",
      "ddp_find_unused_parameters=None,\n",
      "ddp_timeout=1800,\n",
      "debug=[],\n",
      "deepspeed=None,\n",
      "disable_tqdm=False,\n",
      "do_eval=True,\n",
      "do_predict=False,\n",
      "do_train=True,\n",
      "eval_accumulation_steps=None,\n",
      "eval_delay=0,\n",
      "eval_do_concat_batches=True,\n",
      "eval_on_start=False,\n",
      "eval_steps=2000.0,\n",
      "eval_strategy=no,\n",
      "eval_use_gather_object=False,\n",
      "fp16=False,\n",
      "fp16_backend=auto,\n",
      "fp16_full_eval=False,\n",
      "fp16_opt_level=O1,\n",
      "fsdp=[],\n",
      "fsdp_config={'min_num_params': 0, 'xla': False, 'xla_fsdp_v2': False, 'xla_fsdp_grad_ckpt': False},\n",
      "fsdp_min_num_params=0,\n",
      "fsdp_transformer_layer_cls_to_wrap=None,\n",
      "full_determinism=False,\n",
      "gradient_accumulation_steps=1,\n",
      "gradient_checkpointing=False,\n",
      "gradient_checkpointing_kwargs=None,\n",
      "greater_is_better=None,\n",
      "group_by_length=False,\n",
      "half_precision_backend=auto,\n",
      "hub_always_push=False,\n",
      "hub_model_id=None,\n",
      "hub_private_repo=None,\n",
      "hub_strategy=every_save,\n",
      "hub_token=<HUB_TOKEN>,\n",
      "ignore_data_skip=False,\n",
      "include_for_metrics=[],\n",
      "include_inputs_for_metrics=False,\n",
      "include_num_input_tokens_seen=False,\n",
      "include_tokens_per_second=False,\n",
      "jit_mode_eval=False,\n",
      "label_names=None,\n",
      "label_smoothing_factor=0.0,\n",
      "learning_rate=5e-05,\n",
      "length_column_name=length,\n",
      "load_best_model_at_end=False,\n",
      "local_rank=0,\n",
      "log_level=passive,\n",
      "log_level_replica=warning,\n",
      "log_on_each_node=True,\n",
      "logging_dir=generalist_model/runs/Jul20_12-58-17_skate-l.cs.ucl.ac.uk,\n",
      "logging_first_step=False,\n",
      "logging_nan_inf_filter=True,\n",
      "logging_steps=500,\n",
      "logging_strategy=steps,\n",
      "lr_scheduler_kwargs={},\n",
      "lr_scheduler_type=linear,\n",
      "max_grad_norm=1.0,\n",
      "max_steps=-1,\n",
      "metric_for_best_model=None,\n",
      "mp_parameters=,\n",
      "neftune_noise_alpha=None,\n",
      "no_cuda=False,\n",
      "num_train_epochs=0.2,\n",
      "optim=adamw_torch,\n",
      "optim_args=None,\n",
      "optim_target_modules=None,\n",
      "output_dir=generalist_model,\n",
      "overwrite_output_dir=True,\n",
      "past_index=-1,\n",
      "per_device_eval_batch_size=1,\n",
      "per_device_train_batch_size=1,\n",
      "prediction_loss_only=False,\n",
      "push_to_hub=False,\n",
      "push_to_hub_model_id=None,\n",
      "push_to_hub_organization=None,\n",
      "push_to_hub_token=<PUSH_TO_HUB_TOKEN>,\n",
      "ray_scope=last,\n",
      "remove_unused_columns=True,\n",
      "report_to=['wandb'],\n",
      "restore_callback_states_from_checkpoint=False,\n",
      "resume_from_checkpoint=None,\n",
      "run_name=generalist_model,\n",
      "save_on_each_node=False,\n",
      "save_only_model=False,\n",
      "save_safetensors=True,\n",
      "save_steps=500,\n",
      "save_strategy=steps,\n",
      "save_total_limit=30,\n",
      "seed=42,\n",
      "skip_memory_metrics=True,\n",
      "tf32=None,\n",
      "torch_compile=False,\n",
      "torch_compile_backend=None,\n",
      "torch_compile_mode=None,\n",
      "torch_empty_cache_steps=None,\n",
      "torchdynamo=None,\n",
      "tpu_metrics_debug=False,\n",
      "tpu_num_cores=None,\n",
      "use_cpu=False,\n",
      "use_ipex=False,\n",
      "use_legacy_prediction_loop=False,\n",
      "use_liger_kernel=False,\n",
      "use_mps_device=False,\n",
      "warmup_ratio=0.0,\n",
      "warmup_steps=0,\n",
      "weight_decay=0.0,\n",
      ")\n"
     ]
    },
    {
     "name": "stderr",
     "output_type": "stream",
     "text": [
      "Using custom data configuration default-c5fccf45762b368e\n",
      "Loading Dataset Infos from /cs/student/projects1/aibh/2024/cbaumgar/.venv/lib64/python3.9/site-packages/datasets/packaged_modules/text\n",
      "Overwrite dataset info from restored data version if exists.\n",
      "Loading Dataset info from /cs/student/projects1/aibh/2024/cbaumgar/MSC_THESIS/.cache/huggingface_datasets/text/default-c5fccf45762b368e/0.0.0/37eaf37ac90527a7fd768c94b312ee84f8815c9b7ac00acf81c1c364e8392f99\n"
     ]
    },
    {
     "name": "stdout",
     "output_type": "stream",
     "text": [
      "07/20/2025 12:58:18 - INFO - datasets.builder - Using custom data configuration default-c5fccf45762b368e\n",
      "07/20/2025 12:58:18 - INFO - datasets.info - Loading Dataset Infos from /cs/student/projects1/aibh/2024/cbaumgar/.venv/lib64/python3.9/site-packages/datasets/packaged_modules/text\n",
      "07/20/2025 12:58:18 - INFO - datasets.builder - Overwrite dataset info from restored data version if exists.\n",
      "07/20/2025 12:58:18 - INFO - datasets.info - Loading Dataset info from /cs/student/projects1/aibh/2024/cbaumgar/MSC_THESIS/.cache/huggingface_datasets/text/default-c5fccf45762b368e/0.0.0/37eaf37ac90527a7fd768c94b312ee84f8815c9b7ac00acf81c1c364e8392f99\n"
     ]
    },
    {
     "name": "stderr",
     "output_type": "stream",
     "text": [
      "Found cached dataset text (/cs/student/projects1/aibh/2024/cbaumgar/MSC_THESIS/.cache/huggingface_datasets/text/default-c5fccf45762b368e/0.0.0/37eaf37ac90527a7fd768c94b312ee84f8815c9b7ac00acf81c1c364e8392f99)\n",
      "Loading Dataset info from /cs/student/projects1/aibh/2024/cbaumgar/MSC_THESIS/.cache/huggingface_datasets/text/default-c5fccf45762b368e/0.0.0/37eaf37ac90527a7fd768c94b312ee84f8815c9b7ac00acf81c1c364e8392f99\n",
      "[INFO|configuration_utils.py:712] 2025-07-20 12:58:19,352 >> loading configuration file generalist_config/config.json\n",
      "[INFO|configuration_utils.py:786] 2025-07-20 12:58:19,354 >> Model config GPT2Config {\n",
      "  \"activation_function\": \"gelu_new\",\n",
      "  \"architectures\": [\n",
      "    \"GPT2LMHeadModel\"\n",
      "  ],\n",
      "  \"attn_pdrop\": 0.1,\n",
      "  \"bos_token_id\": 3,\n",
      "  \"embd_pdrop\": 0.1,\n",
      "  \"eos_token_id\": 2,\n",
      "  \"initializer_range\": 0.02,\n",
      "  \"layer_norm_epsilon\": 1e-05,\n",
      "  \"model_type\": \"gpt2\",\n",
      "  \"n_ctx\": 1024,\n",
      "  \"n_embd\": 768,\n",
      "  \"n_head\": 12,\n",
      "  \"n_inner\": null,\n",
      "  \"n_layer\": 12,\n",
      "  \"n_positions\": 1024,\n",
      "  \"reorder_and_upcast_attn\": false,\n",
      "  \"resid_pdrop\": 0.1,\n",
      "  \"scale_attn_by_inverse_layer_idx\": false,\n",
      "  \"scale_attn_weights\": true,\n",
      "  \"summary_activation\": null,\n",
      "  \"summary_first_dropout\": 0.1,\n",
      "  \"summary_proj_to_labels\": true,\n",
      "  \"summary_type\": \"cls_index\",\n",
      "  \"summary_use_proj\": true,\n",
      "  \"task_specific_params\": {\n",
      "    \"text-generation\": {\n",
      "      \"do_sample\": true,\n",
      "      \"max_length\": 50\n",
      "    }\n",
      "  },\n",
      "  \"transformers_version\": \"4.53.0.dev0\",\n",
      "  \"use_cache\": true,\n",
      "  \"vocab_size\": 1000\n",
      "}\n",
      "\n"
     ]
    },
    {
     "name": "stdout",
     "output_type": "stream",
     "text": [
      "07/20/2025 12:58:19 - INFO - datasets.builder - Found cached dataset text (/cs/student/projects1/aibh/2024/cbaumgar/MSC_THESIS/.cache/huggingface_datasets/text/default-c5fccf45762b368e/0.0.0/37eaf37ac90527a7fd768c94b312ee84f8815c9b7ac00acf81c1c364e8392f99)\n",
      "07/20/2025 12:58:19 - INFO - datasets.info - Loading Dataset info from /cs/student/projects1/aibh/2024/cbaumgar/MSC_THESIS/.cache/huggingface_datasets/text/default-c5fccf45762b368e/0.0.0/37eaf37ac90527a7fd768c94b312ee84f8815c9b7ac00acf81c1c364e8392f99\n"
     ]
    },
    {
     "name": "stderr",
     "output_type": "stream",
     "text": [
      "[INFO|tokenization_utils_base.py:2021] 2025-07-20 12:58:19,619 >> loading file vocab.json\n",
      "[INFO|tokenization_utils_base.py:2021] 2025-07-20 12:58:19,619 >> loading file merges.txt\n",
      "[INFO|tokenization_utils_base.py:2021] 2025-07-20 12:58:19,619 >> loading file tokenizer.json\n",
      "[INFO|tokenization_utils_base.py:2021] 2025-07-20 12:58:19,619 >> loading file added_tokens.json\n",
      "[INFO|tokenization_utils_base.py:2021] 2025-07-20 12:58:19,619 >> loading file special_tokens_map.json\n",
      "[INFO|tokenization_utils_base.py:2021] 2025-07-20 12:58:19,620 >> loading file tokenizer_config.json\n",
      "[INFO|tokenization_utils_base.py:2021] 2025-07-20 12:58:19,620 >> loading file chat_template.jinja\n",
      "[INFO|configuration_utils.py:1122] 2025-07-20 12:58:19,777 >> Generate config GenerationConfig {\n",
      "  \"bos_token_id\": 3,\n",
      "  \"eos_token_id\": 2\n",
      "}\n",
      "\n"
     ]
    },
    {
     "name": "stdout",
     "output_type": "stream",
     "text": [
      "07/20/2025 12:58:20 - INFO - __main__ - Training new model from scratch - Total size=82.60M params\n",
      "07/20/2025 12:58:20 - INFO - datasets.arrow_dataset - Loading cached processed dataset at /cs/student/projects1/aibh/2024/cbaumgar/MSC_THESIS/.cache/huggingface_datasets/text/default-c5fccf45762b368e/0.0.0/37eaf37ac90527a7fd768c94b312ee84f8815c9b7ac00acf81c1c364e8392f99/cache-a4569ed8bef40f90.arrow\n",
      "07/20/2025 12:58:21 - INFO - datasets.arrow_dataset - Loading cached processed dataset at /cs/student/projects1/aibh/2024/cbaumgar/MSC_THESIS/.cache/huggingface_datasets/text/default-c5fccf45762b368e/0.0.0/37eaf37ac90527a7fd768c94b312ee84f8815c9b7ac00acf81c1c364e8392f99/cache-e8daecd01394160d.arrow\n",
      "07/20/2025 12:58:21 - INFO - datasets.arrow_dataset - Loading cached processed dataset at /cs/student/projects1/aibh/2024/cbaumgar/MSC_THESIS/.cache/huggingface_datasets/text/default-c5fccf45762b368e/0.0.0/37eaf37ac90527a7fd768c94b312ee84f8815c9b7ac00acf81c1c364e8392f99/cache-a6f206800c876baf.arrow\n",
      "07/20/2025 12:58:21 - INFO - datasets.arrow_dataset - Loading cached processed dataset at /cs/student/projects1/aibh/2024/cbaumgar/MSC_THESIS/.cache/huggingface_datasets/text/default-c5fccf45762b368e/0.0.0/37eaf37ac90527a7fd768c94b312ee84f8815c9b7ac00acf81c1c364e8392f99/cache-a8b844d4e02cdc19.arrow\n"
     ]
    },
    {
     "name": "stderr",
     "output_type": "stream",
     "text": [
      "Loading cached processed dataset at /cs/student/projects1/aibh/2024/cbaumgar/MSC_THESIS/.cache/huggingface_datasets/text/default-c5fccf45762b368e/0.0.0/37eaf37ac90527a7fd768c94b312ee84f8815c9b7ac00acf81c1c364e8392f99/cache-a4569ed8bef40f90.arrow\n",
      "Loading cached processed dataset at /cs/student/projects1/aibh/2024/cbaumgar/MSC_THESIS/.cache/huggingface_datasets/text/default-c5fccf45762b368e/0.0.0/37eaf37ac90527a7fd768c94b312ee84f8815c9b7ac00acf81c1c364e8392f99/cache-e8daecd01394160d.arrow\n",
      "Loading cached processed dataset at /cs/student/projects1/aibh/2024/cbaumgar/MSC_THESIS/.cache/huggingface_datasets/text/default-c5fccf45762b368e/0.0.0/37eaf37ac90527a7fd768c94b312ee84f8815c9b7ac00acf81c1c364e8392f99/cache-a6f206800c876baf.arrow\n",
      "Loading cached processed dataset at /cs/student/projects1/aibh/2024/cbaumgar/MSC_THESIS/.cache/huggingface_datasets/text/default-c5fccf45762b368e/0.0.0/37eaf37ac90527a7fd768c94b312ee84f8815c9b7ac00acf81c1c364e8392f99/cache-a8b844d4e02cdc19.arrow\n",
      "/cs/student/projects1/aibh/2024/cbaumgar/MSC_THESIS/./run_clm.py:122: FutureWarning: `tokenizer` is deprecated and will be removed in version 5.0.0 for `CustomTrainer.__init__`. Use `processing_class` instead.\n",
      "  super().__init__(*args, **kwargs)\n",
      "[INFO|trainer.py:2409] 2025-07-20 12:58:44,697 >> ***** Running training *****\n",
      "[INFO|trainer.py:2410] 2025-07-20 12:58:44,697 >>   Num examples = 65,741\n",
      "[INFO|trainer.py:2411] 2025-07-20 12:58:44,697 >>   Num Epochs = 1\n",
      "[INFO|trainer.py:2412] 2025-07-20 12:58:44,697 >>   Instantaneous batch size per device = 1\n",
      "[INFO|trainer.py:2415] 2025-07-20 12:58:44,697 >>   Total train batch size (w. parallel, distributed & accumulation) = 1\n",
      "[INFO|trainer.py:2416] 2025-07-20 12:58:44,697 >>   Gradient Accumulation steps = 1\n",
      "[INFO|trainer.py:2417] 2025-07-20 12:58:44,697 >>   Total optimization steps = 13,149\n",
      "[INFO|trainer.py:2418] 2025-07-20 12:58:44,698 >>   Number of trainable parameters = 86,610,432\n",
      "[INFO|integration_utils.py:832] 2025-07-20 12:58:44,701 >> Automatic Weights & Biases logging enabled, to disable set os.environ[\"WANDB_DISABLED\"] = \"true\"\n",
      "wandb: WARNING The `run_name` is currently set to the same value as `TrainingArguments.output_dir`. If this was not intended, please specify a different run name by setting the `TrainingArguments.run_name` parameter.\n",
      "wandb: Currently logged in as: carobgt (carobgt-ucl) to https://api.wandb.ai. Use `wandb login --relogin` to force relogin\n",
      "wandb: Tracking run with wandb version 0.20.1\n",
      "wandb: Run data is saved locally in /cs/student/projects1/aibh/2024/cbaumgar/MSC_THESIS/wandb_local_runs/wandb/run-20250720_125845-bpe0m22a\n",
      "wandb: Run `wandb offline` to turn off syncing.\n",
      "wandb: Syncing run generalist_model\n",
      "wandb: ⭐️ View project at https://wandb.ai/carobgt-ucl/generalist_model\n",
      "wandb: 🚀 View run at https://wandb.ai/carobgt-ucl/generalist_model/runs/bpe0m22a\n",
      "  0%|          | 0/13149 [00:00<?, ?it/s][WARNING|logging.py:328] 2025-07-20 12:58:52,526 >> `loss_type=None` was set in the config but it is unrecognised.Using the default loss: `ForCausalLMLoss`.\n",
      "  4%|▍         | 500/13149 [00:30<12:49, 16.44it/s][INFO|trainer.py:3993] 2025-07-20 12:59:22,805 >> Saving model checkpoint to generalist_model/checkpoint-500\n",
      "[INFO|configuration_utils.py:440] 2025-07-20 12:59:22,816 >> Configuration saved in generalist_model/checkpoint-500/config.json\n"
     ]
    },
    {
     "name": "stdout",
     "output_type": "stream",
     "text": [
      "{'loss': 3.9969, 'grad_norm': 1.8737760782241821, 'learning_rate': 4.810251730169595e-05, 'epoch': 0.01}\n"
     ]
    },
    {
     "name": "stderr",
     "output_type": "stream",
     "text": [
      "[INFO|configuration_utils.py:891] 2025-07-20 12:59:22,835 >> Configuration saved in generalist_model/checkpoint-500/generation_config.json\n",
      "[INFO|modeling_utils.py:3840] 2025-07-20 12:59:27,170 >> Model weights saved in generalist_model/checkpoint-500/model.safetensors\n",
      "[INFO|tokenization_utils_base.py:2525] 2025-07-20 12:59:27,175 >> tokenizer config file saved in generalist_model/checkpoint-500/tokenizer_config.json\n",
      "[INFO|tokenization_utils_base.py:2534] 2025-07-20 12:59:27,191 >> Special tokens file saved in generalist_model/checkpoint-500/special_tokens_map.json\n",
      "  4%|▍         | 500/13149 [00:41<12:49, 16.44it/s][WARNING|logging.py:328] 2025-07-20 12:59:34,063 >> `torch.nn.functional.scaled_dot_product_attention` does not support `output_attentions=True`. Falling back to eager attention. This warning can be removed using the argument `attn_implementation=\"eager\"` when loading the model.\n",
      "  8%|▊         | 1000/13149 [01:19<12:14, 16.53it/s][INFO|trainer.py:3993] 2025-07-20 13:00:12,146 >> Saving model checkpoint to generalist_model/checkpoint-1000\n"
     ]
    },
    {
     "name": "stdout",
     "output_type": "stream",
     "text": [
      "{'loss': 3.8115, 'grad_norm': 1.6900736093521118, 'learning_rate': 4.6201232032854214e-05, 'epoch': 0.02}\n"
     ]
    },
    {
     "name": "stderr",
     "output_type": "stream",
     "text": [
      "[INFO|configuration_utils.py:440] 2025-07-20 13:00:12,160 >> Configuration saved in generalist_model/checkpoint-1000/config.json\n",
      "[INFO|configuration_utils.py:891] 2025-07-20 13:00:12,163 >> Configuration saved in generalist_model/checkpoint-1000/generation_config.json\n",
      "[INFO|modeling_utils.py:3840] 2025-07-20 13:00:17,056 >> Model weights saved in generalist_model/checkpoint-1000/model.safetensors\n",
      "[INFO|tokenization_utils_base.py:2525] 2025-07-20 13:00:17,060 >> tokenizer config file saved in generalist_model/checkpoint-1000/tokenizer_config.json\n",
      "[INFO|tokenization_utils_base.py:2534] 2025-07-20 13:00:17,068 >> Special tokens file saved in generalist_model/checkpoint-1000/special_tokens_map.json\n",
      " 11%|█▏        | 1500/13149 [02:09<11:29, 16.89it/s]   "
     ]
    },
    {
     "name": "stdout",
     "output_type": "stream",
     "text": [
      "{'loss': 3.7612, 'grad_norm': 1.6611226797103882, 'learning_rate': 4.4299946764012475e-05, 'epoch': 0.02}\n"
     ]
    },
    {
     "name": "stderr",
     "output_type": "stream",
     "text": [
      "[INFO|trainer.py:3993] 2025-07-20 13:01:02,057 >> Saving model checkpoint to generalist_model/checkpoint-1500\n",
      "[INFO|configuration_utils.py:440] 2025-07-20 13:01:02,060 >> Configuration saved in generalist_model/checkpoint-1500/config.json\n",
      "[INFO|configuration_utils.py:891] 2025-07-20 13:01:02,062 >> Configuration saved in generalist_model/checkpoint-1500/generation_config.json\n",
      "[INFO|modeling_utils.py:3840] 2025-07-20 13:01:05,432 >> Model weights saved in generalist_model/checkpoint-1500/model.safetensors\n",
      "[INFO|tokenization_utils_base.py:2525] 2025-07-20 13:01:05,435 >> tokenizer config file saved in generalist_model/checkpoint-1500/tokenizer_config.json\n",
      "[INFO|tokenization_utils_base.py:2534] 2025-07-20 13:01:05,454 >> Special tokens file saved in generalist_model/checkpoint-1500/special_tokens_map.json\n",
      " 15%|█▌        | 2000/13149 [03:01<12:42, 14.63it/s]  "
     ]
    },
    {
     "name": "stdout",
     "output_type": "stream",
     "text": [
      "{'loss': 3.7321, 'grad_norm': 1.9023892879486084, 'learning_rate': 4.2398661495170736e-05, 'epoch': 0.03}\n"
     ]
    },
    {
     "name": "stderr",
     "output_type": "stream",
     "text": [
      "[INFO|trainer.py:3993] 2025-07-20 13:01:53,584 >> Saving model checkpoint to generalist_model/checkpoint-2000\n",
      "[INFO|configuration_utils.py:440] 2025-07-20 13:01:53,713 >> Configuration saved in generalist_model/checkpoint-2000/config.json\n",
      "[INFO|configuration_utils.py:891] 2025-07-20 13:01:53,762 >> Configuration saved in generalist_model/checkpoint-2000/generation_config.json\n",
      "[INFO|modeling_utils.py:3840] 2025-07-20 13:01:58,708 >> Model weights saved in generalist_model/checkpoint-2000/model.safetensors\n",
      "[INFO|tokenization_utils_base.py:2525] 2025-07-20 13:01:58,736 >> tokenizer config file saved in generalist_model/checkpoint-2000/tokenizer_config.json\n",
      "[INFO|tokenization_utils_base.py:2534] 2025-07-20 13:01:58,741 >> Special tokens file saved in generalist_model/checkpoint-2000/special_tokens_map.json\n",
      " 19%|█▉        | 2500/13149 [03:51<10:28, 16.96it/s][INFO|trainer.py:3993] 2025-07-20 13:02:43,458 >> Saving model checkpoint to generalist_model/checkpoint-2500\n"
     ]
    },
    {
     "name": "stdout",
     "output_type": "stream",
     "text": [
      "{'loss': 3.7085, 'grad_norm': 1.826564073562622, 'learning_rate': 4.0497376226328996e-05, 'epoch': 0.04}\n"
     ]
    },
    {
     "name": "stderr",
     "output_type": "stream",
     "text": [
      "[INFO|configuration_utils.py:440] 2025-07-20 13:02:43,464 >> Configuration saved in generalist_model/checkpoint-2500/config.json\n",
      "[INFO|configuration_utils.py:891] 2025-07-20 13:02:43,505 >> Configuration saved in generalist_model/checkpoint-2500/generation_config.json\n",
      "[INFO|modeling_utils.py:3840] 2025-07-20 13:02:47,176 >> Model weights saved in generalist_model/checkpoint-2500/model.safetensors\n",
      "[INFO|tokenization_utils_base.py:2525] 2025-07-20 13:02:47,188 >> tokenizer config file saved in generalist_model/checkpoint-2500/tokenizer_config.json\n",
      "[INFO|tokenization_utils_base.py:2534] 2025-07-20 13:02:47,200 >> Special tokens file saved in generalist_model/checkpoint-2500/special_tokens_map.json\n",
      " 23%|██▎       | 3000/13149 [04:39<10:15, 16.48it/s][INFO|trainer.py:3993] 2025-07-20 13:03:31,354 >> Saving model checkpoint to generalist_model/checkpoint-3000\n"
     ]
    },
    {
     "name": "stdout",
     "output_type": "stream",
     "text": [
      "{'loss': 3.6847, 'grad_norm': 1.7486915588378906, 'learning_rate': 3.8596090957487264e-05, 'epoch': 0.05}\n"
     ]
    },
    {
     "name": "stderr",
     "output_type": "stream",
     "text": [
      "[INFO|configuration_utils.py:440] 2025-07-20 13:03:31,369 >> Configuration saved in generalist_model/checkpoint-3000/config.json\n",
      "[INFO|configuration_utils.py:891] 2025-07-20 13:03:31,374 >> Configuration saved in generalist_model/checkpoint-3000/generation_config.json\n",
      "[INFO|modeling_utils.py:3840] 2025-07-20 13:03:34,928 >> Model weights saved in generalist_model/checkpoint-3000/model.safetensors\n",
      "[INFO|tokenization_utils_base.py:2525] 2025-07-20 13:03:34,939 >> tokenizer config file saved in generalist_model/checkpoint-3000/tokenizer_config.json\n",
      "[INFO|tokenization_utils_base.py:2534] 2025-07-20 13:03:34,942 >> Special tokens file saved in generalist_model/checkpoint-3000/special_tokens_map.json\n",
      " 27%|██▋       | 3500/13149 [05:26<09:42, 16.55it/s][INFO|trainer.py:3993] 2025-07-20 13:04:18,970 >> Saving model checkpoint to generalist_model/checkpoint-3500\n"
     ]
    },
    {
     "name": "stdout",
     "output_type": "stream",
     "text": [
      "{'loss': 3.6709, 'grad_norm': 1.8253268003463745, 'learning_rate': 3.669480568864553e-05, 'epoch': 0.05}\n"
     ]
    },
    {
     "name": "stderr",
     "output_type": "stream",
     "text": [
      "[INFO|configuration_utils.py:440] 2025-07-20 13:04:18,975 >> Configuration saved in generalist_model/checkpoint-3500/config.json\n",
      "[INFO|configuration_utils.py:891] 2025-07-20 13:04:18,978 >> Configuration saved in generalist_model/checkpoint-3500/generation_config.json\n",
      "[INFO|modeling_utils.py:3840] 2025-07-20 13:04:22,385 >> Model weights saved in generalist_model/checkpoint-3500/model.safetensors\n",
      "[INFO|tokenization_utils_base.py:2525] 2025-07-20 13:04:22,390 >> tokenizer config file saved in generalist_model/checkpoint-3500/tokenizer_config.json\n",
      "[INFO|tokenization_utils_base.py:2534] 2025-07-20 13:04:22,408 >> Special tokens file saved in generalist_model/checkpoint-3500/special_tokens_map.json\n",
      " 30%|███       | 4000/13149 [06:14<08:58, 16.99it/s][INFO|trainer.py:3993] 2025-07-20 13:05:06,478 >> Saving model checkpoint to generalist_model/checkpoint-4000\n"
     ]
    },
    {
     "name": "stdout",
     "output_type": "stream",
     "text": [
      "{'loss': 3.6586, 'grad_norm': 1.8973994255065918, 'learning_rate': 3.4793520419803785e-05, 'epoch': 0.06}\n"
     ]
    },
    {
     "name": "stderr",
     "output_type": "stream",
     "text": [
      "[INFO|configuration_utils.py:440] 2025-07-20 13:05:06,501 >> Configuration saved in generalist_model/checkpoint-4000/config.json\n",
      "[INFO|configuration_utils.py:891] 2025-07-20 13:05:06,504 >> Configuration saved in generalist_model/checkpoint-4000/generation_config.json\n",
      "[INFO|modeling_utils.py:3840] 2025-07-20 13:05:10,143 >> Model weights saved in generalist_model/checkpoint-4000/model.safetensors\n",
      "[INFO|tokenization_utils_base.py:2525] 2025-07-20 13:05:10,156 >> tokenizer config file saved in generalist_model/checkpoint-4000/tokenizer_config.json\n",
      "[INFO|tokenization_utils_base.py:2534] 2025-07-20 13:05:10,158 >> Special tokens file saved in generalist_model/checkpoint-4000/special_tokens_map.json\n",
      " 34%|███▍      | 4500/13149 [07:11<10:52, 13.27it/s][INFO|trainer.py:3993] 2025-07-20 13:06:04,061 >> Saving model checkpoint to generalist_model/checkpoint-4500\n",
      "[INFO|configuration_utils.py:440] 2025-07-20 13:06:04,077 >> Configuration saved in generalist_model/checkpoint-4500/config.json\n",
      "[INFO|configuration_utils.py:891] 2025-07-20 13:06:04,089 >> Configuration saved in generalist_model/checkpoint-4500/generation_config.json\n"
     ]
    },
    {
     "name": "stdout",
     "output_type": "stream",
     "text": [
      "{'loss': 3.6454, 'grad_norm': 1.9062994718551636, 'learning_rate': 3.289223515096205e-05, 'epoch': 0.07}\n"
     ]
    },
    {
     "name": "stderr",
     "output_type": "stream",
     "text": [
      "[INFO|modeling_utils.py:3840] 2025-07-20 13:06:07,710 >> Model weights saved in generalist_model/checkpoint-4500/model.safetensors\n",
      "[INFO|tokenization_utils_base.py:2525] 2025-07-20 13:06:07,723 >> tokenizer config file saved in generalist_model/checkpoint-4500/tokenizer_config.json\n",
      "[INFO|tokenization_utils_base.py:2534] 2025-07-20 13:06:07,725 >> Special tokens file saved in generalist_model/checkpoint-4500/special_tokens_map.json\n",
      " 38%|███▊      | 5000/13149 [08:06<09:12, 14.75it/s][INFO|trainer.py:3993] 2025-07-20 13:06:58,726 >> Saving model checkpoint to generalist_model/checkpoint-5000\n"
     ]
    },
    {
     "name": "stdout",
     "output_type": "stream",
     "text": [
      "{'loss': 3.6441, 'grad_norm': 1.595266580581665, 'learning_rate': 3.0990949882120314e-05, 'epoch': 0.08}\n"
     ]
    },
    {
     "name": "stderr",
     "output_type": "stream",
     "text": [
      "[INFO|configuration_utils.py:440] 2025-07-20 13:06:58,743 >> Configuration saved in generalist_model/checkpoint-5000/config.json\n",
      "[INFO|configuration_utils.py:891] 2025-07-20 13:06:58,760 >> Configuration saved in generalist_model/checkpoint-5000/generation_config.json\n",
      "[INFO|modeling_utils.py:3840] 2025-07-20 13:07:03,215 >> Model weights saved in generalist_model/checkpoint-5000/model.safetensors\n",
      "[INFO|tokenization_utils_base.py:2525] 2025-07-20 13:07:03,231 >> tokenizer config file saved in generalist_model/checkpoint-5000/tokenizer_config.json\n",
      "[INFO|tokenization_utils_base.py:2534] 2025-07-20 13:07:03,232 >> Special tokens file saved in generalist_model/checkpoint-5000/special_tokens_map.json\n",
      " 42%|████▏     | 5500/13149 [09:05<09:11, 13.86it/s][INFO|trainer.py:3993] 2025-07-20 13:07:58,012 >> Saving model checkpoint to generalist_model/checkpoint-5500\n",
      "[INFO|configuration_utils.py:440] 2025-07-20 13:07:58,018 >> Configuration saved in generalist_model/checkpoint-5500/config.json\n",
      "[INFO|configuration_utils.py:891] 2025-07-20 13:07:58,023 >> Configuration saved in generalist_model/checkpoint-5500/generation_config.json\n"
     ]
    },
    {
     "name": "stdout",
     "output_type": "stream",
     "text": [
      "{'loss': 3.6353, 'grad_norm': 1.7704652547836304, 'learning_rate': 2.9089664613278578e-05, 'epoch': 0.08}\n"
     ]
    },
    {
     "name": "stderr",
     "output_type": "stream",
     "text": [
      "[INFO|modeling_utils.py:3840] 2025-07-20 13:08:01,322 >> Model weights saved in generalist_model/checkpoint-5500/model.safetensors\n",
      "[INFO|tokenization_utils_base.py:2525] 2025-07-20 13:08:01,326 >> tokenizer config file saved in generalist_model/checkpoint-5500/tokenizer_config.json\n",
      "[INFO|tokenization_utils_base.py:2534] 2025-07-20 13:08:01,345 >> Special tokens file saved in generalist_model/checkpoint-5500/special_tokens_map.json\n",
      " 46%|████▌     | 6000/13149 [09:58<08:36, 13.83it/s][INFO|trainer.py:3993] 2025-07-20 13:08:50,522 >> Saving model checkpoint to generalist_model/checkpoint-6000\n",
      "[INFO|configuration_utils.py:440] 2025-07-20 13:08:50,532 >> Configuration saved in generalist_model/checkpoint-6000/config.json\n",
      "[INFO|configuration_utils.py:891] 2025-07-20 13:08:50,546 >> Configuration saved in generalist_model/checkpoint-6000/generation_config.json\n"
     ]
    },
    {
     "name": "stdout",
     "output_type": "stream",
     "text": [
      "{'loss': 3.6302, 'grad_norm': 1.5985212326049805, 'learning_rate': 2.7188379344436842e-05, 'epoch': 0.09}\n"
     ]
    },
    {
     "name": "stderr",
     "output_type": "stream",
     "text": [
      "[INFO|modeling_utils.py:3840] 2025-07-20 13:08:53,841 >> Model weights saved in generalist_model/checkpoint-6000/model.safetensors\n",
      "[INFO|tokenization_utils_base.py:2525] 2025-07-20 13:08:53,844 >> tokenizer config file saved in generalist_model/checkpoint-6000/tokenizer_config.json\n",
      "[INFO|tokenization_utils_base.py:2534] 2025-07-20 13:08:53,854 >> Special tokens file saved in generalist_model/checkpoint-6000/special_tokens_map.json\n",
      " 49%|████▉     | 6500/13149 [10:50<08:13, 13.47it/s][INFO|trainer.py:3993] 2025-07-20 13:09:42,812 >> Saving model checkpoint to generalist_model/checkpoint-6500\n",
      "[INFO|configuration_utils.py:440] 2025-07-20 13:09:42,825 >> Configuration saved in generalist_model/checkpoint-6500/config.json\n",
      "[INFO|configuration_utils.py:891] 2025-07-20 13:09:42,842 >> Configuration saved in generalist_model/checkpoint-6500/generation_config.json\n"
     ]
    },
    {
     "name": "stdout",
     "output_type": "stream",
     "text": [
      "{'loss': 3.6252, 'grad_norm': 1.8126612901687622, 'learning_rate': 2.5287094075595103e-05, 'epoch': 0.1}\n"
     ]
    },
    {
     "name": "stderr",
     "output_type": "stream",
     "text": [
      "[INFO|modeling_utils.py:3840] 2025-07-20 13:09:46,881 >> Model weights saved in generalist_model/checkpoint-6500/model.safetensors\n",
      "[INFO|tokenization_utils_base.py:2525] 2025-07-20 13:09:46,884 >> tokenizer config file saved in generalist_model/checkpoint-6500/tokenizer_config.json\n",
      "[INFO|tokenization_utils_base.py:2534] 2025-07-20 13:09:46,885 >> Special tokens file saved in generalist_model/checkpoint-6500/special_tokens_map.json\n",
      " 53%|█████▎    | 7000/13149 [11:46<06:25, 15.97it/s]  "
     ]
    },
    {
     "name": "stdout",
     "output_type": "stream",
     "text": [
      "{'loss': 3.6224, 'grad_norm': 1.7817624807357788, 'learning_rate': 2.3385808806753367e-05, 'epoch': 0.11}\n"
     ]
    },
    {
     "name": "stderr",
     "output_type": "stream",
     "text": [
      "[INFO|trainer.py:3993] 2025-07-20 13:10:38,247 >> Saving model checkpoint to generalist_model/checkpoint-7000\n",
      "[INFO|configuration_utils.py:440] 2025-07-20 13:10:38,261 >> Configuration saved in generalist_model/checkpoint-7000/config.json\n",
      "[INFO|configuration_utils.py:891] 2025-07-20 13:10:38,271 >> Configuration saved in generalist_model/checkpoint-7000/generation_config.json\n",
      "[INFO|modeling_utils.py:3840] 2025-07-20 13:10:41,867 >> Model weights saved in generalist_model/checkpoint-7000/model.safetensors\n",
      "[INFO|tokenization_utils_base.py:2525] 2025-07-20 13:10:41,869 >> tokenizer config file saved in generalist_model/checkpoint-7000/tokenizer_config.json\n",
      "[INFO|tokenization_utils_base.py:2534] 2025-07-20 13:10:41,886 >> Special tokens file saved in generalist_model/checkpoint-7000/special_tokens_map.json\n",
      " 57%|█████▋    | 7500/13149 [12:37<05:53, 15.97it/s][INFO|trainer.py:3993] 2025-07-20 13:11:29,886 >> Saving model checkpoint to generalist_model/checkpoint-7500\n",
      "[INFO|configuration_utils.py:440] 2025-07-20 13:11:29,893 >> Configuration saved in generalist_model/checkpoint-7500/config.json\n",
      "[INFO|configuration_utils.py:891] 2025-07-20 13:11:29,906 >> Configuration saved in generalist_model/checkpoint-7500/generation_config.json\n"
     ]
    },
    {
     "name": "stdout",
     "output_type": "stream",
     "text": [
      "{'loss': 3.6139, 'grad_norm': 1.6318495273590088, 'learning_rate': 2.148452353791163e-05, 'epoch': 0.11}\n"
     ]
    },
    {
     "name": "stderr",
     "output_type": "stream",
     "text": [
      "[INFO|modeling_utils.py:3840] 2025-07-20 13:11:33,229 >> Model weights saved in generalist_model/checkpoint-7500/model.safetensors\n",
      "[INFO|tokenization_utils_base.py:2525] 2025-07-20 13:11:33,231 >> tokenizer config file saved in generalist_model/checkpoint-7500/tokenizer_config.json\n",
      "[INFO|tokenization_utils_base.py:2534] 2025-07-20 13:11:33,232 >> Special tokens file saved in generalist_model/checkpoint-7500/special_tokens_map.json\n",
      " 61%|██████    | 8000/13149 [13:29<05:57, 14.39it/s][INFO|trainer.py:3993] 2025-07-20 13:12:21,528 >> Saving model checkpoint to generalist_model/checkpoint-8000\n",
      "[INFO|configuration_utils.py:440] 2025-07-20 13:12:21,538 >> Configuration saved in generalist_model/checkpoint-8000/config.json\n",
      "[INFO|configuration_utils.py:891] 2025-07-20 13:12:21,559 >> Configuration saved in generalist_model/checkpoint-8000/generation_config.json\n"
     ]
    },
    {
     "name": "stdout",
     "output_type": "stream",
     "text": [
      "{'loss': 3.61, 'grad_norm': 1.7174451351165771, 'learning_rate': 1.9583238269069892e-05, 'epoch': 0.12}\n"
     ]
    },
    {
     "name": "stderr",
     "output_type": "stream",
     "text": [
      "[INFO|modeling_utils.py:3840] 2025-07-20 13:12:24,941 >> Model weights saved in generalist_model/checkpoint-8000/model.safetensors\n",
      "[INFO|tokenization_utils_base.py:2525] 2025-07-20 13:12:24,959 >> tokenizer config file saved in generalist_model/checkpoint-8000/tokenizer_config.json\n",
      "[INFO|tokenization_utils_base.py:2534] 2025-07-20 13:12:24,977 >> Special tokens file saved in generalist_model/checkpoint-8000/special_tokens_map.json\n",
      " 65%|██████▍   | 8500/13149 [14:22<05:52, 13.18it/s][INFO|trainer.py:3993] 2025-07-20 13:13:14,537 >> Saving model checkpoint to generalist_model/checkpoint-8500\n",
      "[INFO|configuration_utils.py:440] 2025-07-20 13:13:14,566 >> Configuration saved in generalist_model/checkpoint-8500/config.json\n",
      "[INFO|configuration_utils.py:891] 2025-07-20 13:13:14,582 >> Configuration saved in generalist_model/checkpoint-8500/generation_config.json\n"
     ]
    },
    {
     "name": "stdout",
     "output_type": "stream",
     "text": [
      "{'loss': 3.61, 'grad_norm': 1.7809234857559204, 'learning_rate': 1.7681953000228156e-05, 'epoch': 0.13}\n"
     ]
    },
    {
     "name": "stderr",
     "output_type": "stream",
     "text": [
      "[INFO|modeling_utils.py:3840] 2025-07-20 13:13:18,628 >> Model weights saved in generalist_model/checkpoint-8500/model.safetensors\n",
      "[INFO|tokenization_utils_base.py:2525] 2025-07-20 13:13:18,651 >> tokenizer config file saved in generalist_model/checkpoint-8500/tokenizer_config.json\n",
      "[INFO|tokenization_utils_base.py:2534] 2025-07-20 13:13:18,670 >> Special tokens file saved in generalist_model/checkpoint-8500/special_tokens_map.json\n",
      " 68%|██████▊   | 9000/13149 [15:16<04:56, 14.01it/s][INFO|trainer.py:3993] 2025-07-20 13:14:08,915 >> Saving model checkpoint to generalist_model/checkpoint-9000\n",
      "[INFO|configuration_utils.py:440] 2025-07-20 13:14:08,919 >> Configuration saved in generalist_model/checkpoint-9000/config.json\n",
      "[INFO|configuration_utils.py:891] 2025-07-20 13:14:08,922 >> Configuration saved in generalist_model/checkpoint-9000/generation_config.json\n"
     ]
    },
    {
     "name": "stdout",
     "output_type": "stream",
     "text": [
      "{'loss': 3.6075, 'grad_norm': 1.934746265411377, 'learning_rate': 1.5780667731386417e-05, 'epoch': 0.14}\n"
     ]
    },
    {
     "name": "stderr",
     "output_type": "stream",
     "text": [
      "[INFO|modeling_utils.py:3840] 2025-07-20 13:14:12,277 >> Model weights saved in generalist_model/checkpoint-9000/model.safetensors\n",
      "[INFO|tokenization_utils_base.py:2525] 2025-07-20 13:14:12,294 >> tokenizer config file saved in generalist_model/checkpoint-9000/tokenizer_config.json\n",
      "[INFO|tokenization_utils_base.py:2534] 2025-07-20 13:14:12,310 >> Special tokens file saved in generalist_model/checkpoint-9000/special_tokens_map.json\n",
      " 72%|███████▏  | 9500/13149 [16:07<03:39, 16.62it/s][INFO|trainer.py:3993] 2025-07-20 13:14:59,955 >> Saving model checkpoint to generalist_model/checkpoint-9500\n"
     ]
    },
    {
     "name": "stdout",
     "output_type": "stream",
     "text": [
      "{'loss': 3.6058, 'grad_norm': 1.8547159433364868, 'learning_rate': 1.3879382462544683e-05, 'epoch': 0.14}\n"
     ]
    },
    {
     "name": "stderr",
     "output_type": "stream",
     "text": [
      "[INFO|configuration_utils.py:440] 2025-07-20 13:14:59,974 >> Configuration saved in generalist_model/checkpoint-9500/config.json\n",
      "[INFO|configuration_utils.py:891] 2025-07-20 13:14:59,992 >> Configuration saved in generalist_model/checkpoint-9500/generation_config.json\n",
      "[INFO|modeling_utils.py:3840] 2025-07-20 13:15:03,361 >> Model weights saved in generalist_model/checkpoint-9500/model.safetensors\n",
      "[INFO|tokenization_utils_base.py:2525] 2025-07-20 13:15:03,379 >> tokenizer config file saved in generalist_model/checkpoint-9500/tokenizer_config.json\n",
      "[INFO|tokenization_utils_base.py:2534] 2025-07-20 13:15:03,395 >> Special tokens file saved in generalist_model/checkpoint-9500/special_tokens_map.json\n",
      " 76%|███████▌  | 10000/13149 [16:58<03:37, 14.50it/s][INFO|trainer.py:3993] 2025-07-20 13:15:50,987 >> Saving model checkpoint to generalist_model/checkpoint-10000\n",
      "[INFO|configuration_utils.py:440] 2025-07-20 13:15:50,999 >> Configuration saved in generalist_model/checkpoint-10000/config.json\n",
      "[INFO|configuration_utils.py:891] 2025-07-20 13:15:51,019 >> Configuration saved in generalist_model/checkpoint-10000/generation_config.json\n"
     ]
    },
    {
     "name": "stdout",
     "output_type": "stream",
     "text": [
      "{'loss': 3.6038, 'grad_norm': 1.971266269683838, 'learning_rate': 1.1978097193702943e-05, 'epoch': 0.15}\n"
     ]
    },
    {
     "name": "stderr",
     "output_type": "stream",
     "text": [
      "[INFO|modeling_utils.py:3840] 2025-07-20 13:15:56,047 >> Model weights saved in generalist_model/checkpoint-10000/model.safetensors\n",
      "[INFO|tokenization_utils_base.py:2525] 2025-07-20 13:15:56,058 >> tokenizer config file saved in generalist_model/checkpoint-10000/tokenizer_config.json\n",
      "[INFO|tokenization_utils_base.py:2534] 2025-07-20 13:15:56,059 >> Special tokens file saved in generalist_model/checkpoint-10000/special_tokens_map.json\n",
      " 80%|███████▉  | 10500/13149 [17:51<03:01, 14.58it/s][INFO|trainer.py:3993] 2025-07-20 13:16:44,169 >> Saving model checkpoint to generalist_model/checkpoint-10500\n",
      "[INFO|configuration_utils.py:440] 2025-07-20 13:16:44,171 >> Configuration saved in generalist_model/checkpoint-10500/config.json\n",
      "[INFO|configuration_utils.py:891] 2025-07-20 13:16:44,177 >> Configuration saved in generalist_model/checkpoint-10500/generation_config.json\n"
     ]
    },
    {
     "name": "stdout",
     "output_type": "stream",
     "text": [
      "{'loss': 3.5973, 'grad_norm': 1.7078293561935425, 'learning_rate': 1.0076811924861207e-05, 'epoch': 0.16}\n"
     ]
    },
    {
     "name": "stderr",
     "output_type": "stream",
     "text": [
      "[INFO|modeling_utils.py:3840] 2025-07-20 13:16:47,459 >> Model weights saved in generalist_model/checkpoint-10500/model.safetensors\n",
      "[INFO|tokenization_utils_base.py:2525] 2025-07-20 13:16:47,478 >> tokenizer config file saved in generalist_model/checkpoint-10500/tokenizer_config.json\n",
      "[INFO|tokenization_utils_base.py:2534] 2025-07-20 13:16:47,479 >> Special tokens file saved in generalist_model/checkpoint-10500/special_tokens_map.json\n",
      " 84%|████████▎ | 11000/13149 [18:41<02:13, 16.07it/s][INFO|trainer.py:3993] 2025-07-20 13:17:33,614 >> Saving model checkpoint to generalist_model/checkpoint-11000\n",
      "[INFO|configuration_utils.py:440] 2025-07-20 13:17:33,632 >> Configuration saved in generalist_model/checkpoint-11000/config.json\n",
      "[INFO|configuration_utils.py:891] 2025-07-20 13:17:33,634 >> Configuration saved in generalist_model/checkpoint-11000/generation_config.json\n"
     ]
    },
    {
     "name": "stdout",
     "output_type": "stream",
     "text": [
      "{'loss': 3.5959, 'grad_norm': 1.837914228439331, 'learning_rate': 8.17552665601947e-06, 'epoch': 0.17}\n"
     ]
    },
    {
     "name": "stderr",
     "output_type": "stream",
     "text": [
      "[INFO|modeling_utils.py:3840] 2025-07-20 13:17:36,953 >> Model weights saved in generalist_model/checkpoint-11000/model.safetensors\n",
      "[INFO|tokenization_utils_base.py:2525] 2025-07-20 13:17:36,957 >> tokenizer config file saved in generalist_model/checkpoint-11000/tokenizer_config.json\n",
      "[INFO|tokenization_utils_base.py:2534] 2025-07-20 13:17:36,959 >> Special tokens file saved in generalist_model/checkpoint-11000/special_tokens_map.json\n",
      " 87%|████████▋ | 11500/13149 [19:29<01:53, 14.53it/s][INFO|trainer.py:3993] 2025-07-20 13:18:22,209 >> Saving model checkpoint to generalist_model/checkpoint-11500\n",
      "[INFO|configuration_utils.py:440] 2025-07-20 13:18:22,213 >> Configuration saved in generalist_model/checkpoint-11500/config.json\n",
      "[INFO|configuration_utils.py:891] 2025-07-20 13:18:22,221 >> Configuration saved in generalist_model/checkpoint-11500/generation_config.json\n"
     ]
    },
    {
     "name": "stdout",
     "output_type": "stream",
     "text": [
      "{'loss': 3.5908, 'grad_norm': 1.9633818864822388, 'learning_rate': 6.274241387177733e-06, 'epoch': 0.17}\n"
     ]
    },
    {
     "name": "stderr",
     "output_type": "stream",
     "text": [
      "[INFO|modeling_utils.py:3840] 2025-07-20 13:18:25,527 >> Model weights saved in generalist_model/checkpoint-11500/model.safetensors\n",
      "[INFO|tokenization_utils_base.py:2525] 2025-07-20 13:18:25,529 >> tokenizer config file saved in generalist_model/checkpoint-11500/tokenizer_config.json\n",
      "[INFO|tokenization_utils_base.py:2534] 2025-07-20 13:18:25,538 >> Special tokens file saved in generalist_model/checkpoint-11500/special_tokens_map.json\n",
      " 91%|█████████▏| 12000/13149 [20:21<01:18, 14.64it/s][INFO|trainer.py:3993] 2025-07-20 13:19:13,453 >> Saving model checkpoint to generalist_model/checkpoint-12000\n",
      "[INFO|configuration_utils.py:440] 2025-07-20 13:19:13,463 >> Configuration saved in generalist_model/checkpoint-12000/config.json\n",
      "[INFO|configuration_utils.py:891] 2025-07-20 13:19:13,464 >> Configuration saved in generalist_model/checkpoint-12000/generation_config.json\n"
     ]
    },
    {
     "name": "stdout",
     "output_type": "stream",
     "text": [
      "{'loss': 3.5886, 'grad_norm': 1.9581273794174194, 'learning_rate': 4.372956118335996e-06, 'epoch': 0.18}\n"
     ]
    },
    {
     "name": "stderr",
     "output_type": "stream",
     "text": [
      "[INFO|modeling_utils.py:3840] 2025-07-20 13:19:17,339 >> Model weights saved in generalist_model/checkpoint-12000/model.safetensors\n",
      "[INFO|tokenization_utils_base.py:2525] 2025-07-20 13:19:17,346 >> tokenizer config file saved in generalist_model/checkpoint-12000/tokenizer_config.json\n",
      "[INFO|tokenization_utils_base.py:2534] 2025-07-20 13:19:17,368 >> Special tokens file saved in generalist_model/checkpoint-12000/special_tokens_map.json\n",
      " 95%|█████████▌| 12500/13149 [21:14<00:45, 14.28it/s][INFO|trainer.py:3993] 2025-07-20 13:20:07,141 >> Saving model checkpoint to generalist_model/checkpoint-12500\n",
      "[INFO|configuration_utils.py:440] 2025-07-20 13:20:07,146 >> Configuration saved in generalist_model/checkpoint-12500/config.json\n",
      "[INFO|configuration_utils.py:891] 2025-07-20 13:20:07,148 >> Configuration saved in generalist_model/checkpoint-12500/generation_config.json\n"
     ]
    },
    {
     "name": "stdout",
     "output_type": "stream",
     "text": [
      "{'loss': 3.584, 'grad_norm': 1.768236756324768, 'learning_rate': 2.471670849494258e-06, 'epoch': 0.19}\n"
     ]
    },
    {
     "name": "stderr",
     "output_type": "stream",
     "text": [
      "[INFO|modeling_utils.py:3840] 2025-07-20 13:20:11,727 >> Model weights saved in generalist_model/checkpoint-12500/model.safetensors\n",
      "[INFO|tokenization_utils_base.py:2525] 2025-07-20 13:20:11,757 >> tokenizer config file saved in generalist_model/checkpoint-12500/tokenizer_config.json\n",
      "[INFO|tokenization_utils_base.py:2534] 2025-07-20 13:20:11,759 >> Special tokens file saved in generalist_model/checkpoint-12500/special_tokens_map.json\n",
      " 99%|█████████▉| 13000/13149 [22:06<00:09, 15.75it/s][INFO|trainer.py:3993] 2025-07-20 13:20:58,923 >> Saving model checkpoint to generalist_model/checkpoint-13000\n",
      "[INFO|configuration_utils.py:440] 2025-07-20 13:20:58,943 >> Configuration saved in generalist_model/checkpoint-13000/config.json\n",
      "[INFO|configuration_utils.py:891] 2025-07-20 13:20:58,959 >> Configuration saved in generalist_model/checkpoint-13000/generation_config.json\n"
     ]
    },
    {
     "name": "stdout",
     "output_type": "stream",
     "text": [
      "{'loss': 3.586, 'grad_norm': 1.6199499368667603, 'learning_rate': 5.703855806525211e-07, 'epoch': 0.2}\n"
     ]
    },
    {
     "name": "stderr",
     "output_type": "stream",
     "text": [
      "[INFO|modeling_utils.py:3840] 2025-07-20 13:21:02,135 >> Model weights saved in generalist_model/checkpoint-13000/model.safetensors\n",
      "[INFO|tokenization_utils_base.py:2525] 2025-07-20 13:21:02,137 >> tokenizer config file saved in generalist_model/checkpoint-13000/tokenizer_config.json\n",
      "[INFO|tokenization_utils_base.py:2534] 2025-07-20 13:21:02,140 >> Special tokens file saved in generalist_model/checkpoint-13000/special_tokens_map.json\n",
      "100%|██████████| 13149/13149 [22:32<00:00, 16.59it/s][INFO|trainer.py:3993] 2025-07-20 13:21:24,612 >> Saving model checkpoint to generalist_model/checkpoint-13149\n",
      "[INFO|configuration_utils.py:440] 2025-07-20 13:21:24,632 >> Configuration saved in generalist_model/checkpoint-13149/config.json\n",
      "[INFO|configuration_utils.py:891] 2025-07-20 13:21:24,652 >> Configuration saved in generalist_model/checkpoint-13149/generation_config.json\n",
      "[INFO|modeling_utils.py:3840] 2025-07-20 13:21:27,836 >> Model weights saved in generalist_model/checkpoint-13149/model.safetensors\n",
      "[INFO|tokenization_utils_base.py:2525] 2025-07-20 13:21:27,851 >> tokenizer config file saved in generalist_model/checkpoint-13149/tokenizer_config.json\n",
      "[INFO|tokenization_utils_base.py:2534] 2025-07-20 13:21:27,858 >> Special tokens file saved in generalist_model/checkpoint-13149/special_tokens_map.json\n",
      "[INFO|trainer.py:2676] 2025-07-20 13:21:34,248 >> \n",
      "\n",
      "Training completed. Do not forget to share your model on huggingface.co/models =)\n",
      "\n",
      "\n",
      "100%|██████████| 13149/13149 [22:42<00:00,  9.65it/s]\n",
      "[INFO|trainer.py:3993] 2025-07-20 13:21:34,262 >> Saving model checkpoint to generalist_model\n",
      "[INFO|configuration_utils.py:440] 2025-07-20 13:21:34,289 >> Configuration saved in generalist_model/config.json\n",
      "[INFO|configuration_utils.py:891] 2025-07-20 13:21:34,304 >> Configuration saved in generalist_model/generation_config.json\n"
     ]
    },
    {
     "name": "stdout",
     "output_type": "stream",
     "text": [
      "{'train_runtime': 1369.5504, 'train_samples_per_second': 9.6, 'train_steps_per_second': 9.601, 'train_loss': 3.6538342908087116, 'epoch': 0.2}\n"
     ]
    },
    {
     "name": "stderr",
     "output_type": "stream",
     "text": [
      "[INFO|modeling_utils.py:3840] 2025-07-20 13:21:37,630 >> Model weights saved in generalist_model/model.safetensors\n",
      "[INFO|tokenization_utils_base.py:2525] 2025-07-20 13:21:37,662 >> tokenizer config file saved in generalist_model/tokenizer_config.json\n",
      "[INFO|tokenization_utils_base.py:2534] 2025-07-20 13:21:37,670 >> Special tokens file saved in generalist_model/special_tokens_map.json\n",
      "[INFO|trainer.py:4327] 2025-07-20 13:21:37,829 >> \n",
      "***** Running Evaluation *****\n",
      "[INFO|trainer.py:4329] 2025-07-20 13:21:37,829 >>   Num examples = 1313\n",
      "[INFO|trainer.py:4332] 2025-07-20 13:21:37,829 >>   Batch size = 1\n"
     ]
    },
    {
     "name": "stdout",
     "output_type": "stream",
     "text": [
      "***** train metrics *****\n",
      "  epoch                    =        0.2\n",
      "  total_flos               =  6399543GF\n",
      "  train_loss               =     3.6538\n",
      "  train_runtime            = 0:22:49.55\n",
      "  train_samples            =      65741\n",
      "  train_samples_per_second =        9.6\n",
      "  train_steps_per_second   =      9.601\n",
      "07/20/2025 13:21:37 - INFO - __main__ - *** Evaluate ***\n"
     ]
    },
    {
     "name": "stderr",
     "output_type": "stream",
     "text": [
      "100%|██████████| 1313/1313 [00:26<00:00, 48.70it/s]\n",
      "[INFO|modelcard.py:450] 2025-07-20 13:22:04,829 >> Dropping the following result as it does not have all the necessary fields:\n",
      "{'task': {'name': 'Causal Language Modeling', 'type': 'text-generation'}, 'metrics': [{'name': 'Accuracy', 'type': 'accuracy', 'value': 0.23901596114946483}]}\n"
     ]
    },
    {
     "name": "stdout",
     "output_type": "stream",
     "text": [
      "***** eval metrics *****\n",
      "  epoch                   =        0.2\n",
      "  eval_accuracy           =      0.239\n",
      "  eval_loss               =     3.5955\n",
      "  eval_runtime            = 0:00:26.98\n",
      "  eval_samples            =       1313\n",
      "  eval_samples_per_second =     48.661\n",
      "  eval_steps_per_second   =     48.661\n",
      "  perplexity              =    36.4336\n",
      "\u001b[1;34mwandb\u001b[0m: \n",
      "\u001b[1;34mwandb\u001b[0m: 🚀 View run \u001b[33mgeneralist_model\u001b[0m at: \u001b[34mhttps://wandb.ai/carobgt-ucl/generalist_model/runs/bpe0m22a\u001b[0m\n",
      "\u001b[1;34mwandb\u001b[0m: Find logs at: \u001b[1;35mwandb_local_runs/wandb/run-20250720_125845-bpe0m22a/logs\u001b[0m\n"
     ]
    }
   ],
   "source": [
    "\n",
    "train_model_script(num_epochs=0.2,\n",
    "                   output_dir='generalist_model',\n",
    "                   lr=5e-05)\n"
   ]
  }
 ],
 "metadata": {
  "kernelspec": {
   "display_name": ".venv (3.9.21)",
   "language": "python",
   "name": "python3"
  },
  "language_info": {
   "codemirror_mode": {
    "name": "ipython",
    "version": 3
   },
   "file_extension": ".py",
   "mimetype": "text/x-python",
   "name": "python",
   "nbconvert_exporter": "python",
   "pygments_lexer": "ipython3",
   "version": "3.9.21"
  }
 },
 "nbformat": 4,
 "nbformat_minor": 5
}
